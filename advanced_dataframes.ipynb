{
 "cells": [
  {
   "cell_type": "markdown",
   "source": [
    "Run python -m pip install pymysql from your terminal to install the mysql client (any folder is fine)"
   ],
   "metadata": {
    "collapsed": false
   },
   "id": "59a2a81965d52eb4"
  },
  {
   "cell_type": "markdown",
   "source": [
    "\n",
    "cd into your exercises folder for this module and run echo env.py >> .gitignore\n"
   ],
   "metadata": {
    "collapsed": false
   },
   "id": "35fab7457e9b8684"
  },
  {
   "cell_type": "markdown",
   "source": [
    "Create a function named get_db_url. It should accept a username, hostname, password, and database name and return a url connection string formatted like in the example at the start of this lesson.\n",
    "\n"
   ],
   "metadata": {
    "collapsed": false
   },
   "id": "f07e476a752da4a2"
  },
  {
   "cell_type": "code",
   "execution_count": 10,
   "outputs": [],
   "source": [
    "def get_db_url(username,password,hostname):\n",
    "    database = input('what database?: ')\n",
    "    return f'mysql+pymysql://{username}:{password}@{hostname}/{database}'\n"
   ],
   "metadata": {
    "collapsed": false,
    "ExecuteTime": {
     "end_time": "2023-11-06T21:30:57.165630Z",
     "start_time": "2023-11-06T21:30:57.027190Z"
    }
   },
   "id": "2cf4814009cb09e5"
  },
  {
   "cell_type": "code",
   "execution_count": 11,
   "outputs": [],
   "source": [
    "import env\n",
    "import pandas as pd\n",
    "import numpy as np"
   ],
   "metadata": {
    "collapsed": false,
    "ExecuteTime": {
     "end_time": "2023-11-06T21:30:57.166150Z",
     "start_time": "2023-11-06T21:30:57.029769Z"
    }
   },
   "id": "ebcf366e1f222972"
  },
  {
   "cell_type": "markdown",
   "source": [
    "Use your function to obtain a connection to the employees database.\n",
    "\n"
   ],
   "metadata": {
    "collapsed": false
   },
   "id": "2087506bfed2811f"
  },
  {
   "cell_type": "code",
   "execution_count": 12,
   "outputs": [
    {
     "data": {
      "text/plain": "   emp_no  birth_date first_name last_name gender   hire_date\n0   10001  1953-09-02     Georgi   Facello      M  1986-06-26\n1   10002  1964-06-02    Bezalel    Simmel      F  1985-11-21\n2   10003  1959-12-03      Parto   Bamford      M  1986-08-28\n3   10004  1954-05-01  Chirstian   Koblick      M  1986-12-01\n4   10005  1955-01-21    Kyoichi  Maliniak      M  1989-09-12",
      "text/html": "<div>\n<style scoped>\n    .dataframe tbody tr th:only-of-type {\n        vertical-align: middle;\n    }\n\n    .dataframe tbody tr th {\n        vertical-align: top;\n    }\n\n    .dataframe thead th {\n        text-align: right;\n    }\n</style>\n<table border=\"1\" class=\"dataframe\">\n  <thead>\n    <tr style=\"text-align: right;\">\n      <th></th>\n      <th>emp_no</th>\n      <th>birth_date</th>\n      <th>first_name</th>\n      <th>last_name</th>\n      <th>gender</th>\n      <th>hire_date</th>\n    </tr>\n  </thead>\n  <tbody>\n    <tr>\n      <th>0</th>\n      <td>10001</td>\n      <td>1953-09-02</td>\n      <td>Georgi</td>\n      <td>Facello</td>\n      <td>M</td>\n      <td>1986-06-26</td>\n    </tr>\n    <tr>\n      <th>1</th>\n      <td>10002</td>\n      <td>1964-06-02</td>\n      <td>Bezalel</td>\n      <td>Simmel</td>\n      <td>F</td>\n      <td>1985-11-21</td>\n    </tr>\n    <tr>\n      <th>2</th>\n      <td>10003</td>\n      <td>1959-12-03</td>\n      <td>Parto</td>\n      <td>Bamford</td>\n      <td>M</td>\n      <td>1986-08-28</td>\n    </tr>\n    <tr>\n      <th>3</th>\n      <td>10004</td>\n      <td>1954-05-01</td>\n      <td>Chirstian</td>\n      <td>Koblick</td>\n      <td>M</td>\n      <td>1986-12-01</td>\n    </tr>\n    <tr>\n      <th>4</th>\n      <td>10005</td>\n      <td>1955-01-21</td>\n      <td>Kyoichi</td>\n      <td>Maliniak</td>\n      <td>M</td>\n      <td>1989-09-12</td>\n    </tr>\n  </tbody>\n</table>\n</div>"
     },
     "execution_count": 12,
     "metadata": {},
     "output_type": "execute_result"
    }
   ],
   "source": [
    "url = get_db_url(env.user, env.password,env.host)\n",
    "pd.read_sql('select * from employees limit 5', url)"
   ],
   "metadata": {
    "collapsed": false,
    "ExecuteTime": {
     "end_time": "2023-11-06T21:31:03.882743Z",
     "start_time": "2023-11-06T21:30:57.086436Z"
    }
   },
   "id": "3a89186ecb3aaa53"
  },
  {
   "cell_type": "markdown",
   "source": [
    "Once you have successfully run a query:\n",
    "\n",
    "a. Intentionally make a typo in the database url. What kind of error message do you see?\n",
    "\n",
    "b. Intentionally make an error in your SQL query. What does the error message look like?"
   ],
   "metadata": {
    "collapsed": false
   },
   "id": "e7a16c1640284649"
  },
  {
   "cell_type": "code",
   "execution_count": 13,
   "outputs": [
    {
     "ename": "TypeError",
     "evalue": "get_db_url() takes 3 positional arguments but 4 were given",
     "output_type": "error",
     "traceback": [
      "\u001B[0;31m---------------------------------------------------------------------------\u001B[0m",
      "\u001B[0;31mTypeError\u001B[0m                                 Traceback (most recent call last)",
      "Cell \u001B[0;32mIn[13], line 1\u001B[0m\n\u001B[0;32m----> 1\u001B[0m wrong_url \u001B[38;5;241m=\u001B[39m \u001B[43mget_db_url\u001B[49m\u001B[43m(\u001B[49m\u001B[43menv\u001B[49m\u001B[38;5;241;43m.\u001B[39;49m\u001B[43muser\u001B[49m\u001B[43m,\u001B[49m\u001B[43m \u001B[49m\u001B[43menv\u001B[49m\u001B[38;5;241;43m.\u001B[39;49m\u001B[43mpassword\u001B[49m\u001B[43m,\u001B[49m\u001B[43menv\u001B[49m\u001B[38;5;241;43m.\u001B[39;49m\u001B[43mhost\u001B[49m\u001B[43m,\u001B[49m\u001B[38;5;124;43m'\u001B[39;49m\u001B[38;5;124;43memploye\u001B[39;49m\u001B[38;5;124;43m'\u001B[39;49m\u001B[43m)\u001B[49m\n\u001B[1;32m      2\u001B[0m \u001B[38;5;66;03m# pd.read_sql('select * from employees limit 5', wrong_url)\u001B[39;00m\n\u001B[1;32m      3\u001B[0m \u001B[38;5;66;03m# pd.read_sql('select from employees limit 5', url)\u001B[39;00m\n",
      "\u001B[0;31mTypeError\u001B[0m: get_db_url() takes 3 positional arguments but 4 were given"
     ]
    }
   ],
   "source": [
    "wrong_url = get_db_url(env.user, env.password,env.host,'employe')\n",
    "# pd.read_sql('select * from employees limit 5', wrong_url)\n",
    "# pd.read_sql('select from employees limit 5', url)"
   ],
   "metadata": {
    "collapsed": false,
    "ExecuteTime": {
     "end_time": "2023-11-06T21:31:03.922632Z",
     "start_time": "2023-11-06T21:31:03.884962Z"
    }
   },
   "id": "3e480387cbce98c1"
  },
  {
   "cell_type": "markdown",
   "source": [
    "Read the employees and titles tables into two separate DataFrames.\n",
    "\n",
    "How many rows and columns do you have in each DataFrame? Is that what you expected?\n"
   ],
   "metadata": {
    "collapsed": false
   },
   "id": "445da894aa638015"
  },
  {
   "cell_type": "code",
   "execution_count": null,
   "outputs": [],
   "source": [
    "employees_df = pd.read_sql('select * from employees', url)"
   ],
   "metadata": {
    "collapsed": false,
    "ExecuteTime": {
     "start_time": "2023-11-06T21:31:03.914876Z"
    }
   },
   "id": "e69d283a5cb90590"
  },
  {
   "cell_type": "code",
   "execution_count": null,
   "outputs": [],
   "source": [
    "url"
   ],
   "metadata": {
    "collapsed": false,
    "ExecuteTime": {
     "start_time": "2023-11-06T21:31:03.916755Z"
    }
   },
   "id": "2af002185523acd5"
  },
  {
   "cell_type": "code",
   "execution_count": null,
   "outputs": [],
   "source": [
    "titles_df = pd.read_sql('select * from titles', url)"
   ],
   "metadata": {
    "collapsed": false,
    "ExecuteTime": {
     "start_time": "2023-11-06T21:31:03.918474Z"
    }
   },
   "id": "a49dd158fb7312a1"
  },
  {
   "cell_type": "code",
   "execution_count": null,
   "outputs": [],
   "source": [
    "employees_df.info()"
   ],
   "metadata": {
    "collapsed": false,
    "ExecuteTime": {
     "start_time": "2023-11-06T21:31:03.920473Z"
    }
   },
   "id": "c6f7ae47226e38be"
  },
  {
   "cell_type": "code",
   "execution_count": null,
   "outputs": [],
   "source": [
    "titles_df.info()"
   ],
   "metadata": {
    "collapsed": false,
    "ExecuteTime": {
     "start_time": "2023-11-06T21:31:03.922151Z"
    }
   },
   "id": "40819d54d598642a"
  },
  {
   "cell_type": "markdown",
   "source": [
    "Display the summary statistics for each DataFrame.\n",
    "\n"
   ],
   "metadata": {
    "collapsed": false
   },
   "id": "534c2c1ac5c413e1"
  },
  {
   "cell_type": "code",
   "execution_count": null,
   "outputs": [],
   "source": [
    "employees_df.describe()"
   ],
   "metadata": {
    "collapsed": false,
    "ExecuteTime": {
     "start_time": "2023-11-06T21:31:03.923544Z"
    }
   },
   "id": "a1596a16a174872b"
  },
  {
   "cell_type": "code",
   "execution_count": null,
   "outputs": [],
   "source": [
    "titles_df.describe()"
   ],
   "metadata": {
    "collapsed": false,
    "ExecuteTime": {
     "start_time": "2023-11-06T21:31:03.925033Z"
    }
   },
   "id": "1d83c51c19930443"
  },
  {
   "cell_type": "markdown",
   "source": [
    "How many unique titles are in the titles DataFrame?"
   ],
   "metadata": {
    "collapsed": false
   },
   "id": "4721d9169ad2ae61"
  },
  {
   "cell_type": "code",
   "execution_count": null,
   "outputs": [],
   "source": [
    "unique_titles = pd.read_sql('select distinct title from titles',url)"
   ],
   "metadata": {
    "collapsed": false,
    "ExecuteTime": {
     "end_time": "2023-11-06T21:31:03.969766Z",
     "start_time": "2023-11-06T21:31:03.928018Z"
    }
   },
   "id": "12908ab4022abb2d"
  },
  {
   "cell_type": "code",
   "execution_count": null,
   "outputs": [],
   "source": [
    "unique_titles"
   ],
   "metadata": {
    "collapsed": false,
    "ExecuteTime": {
     "start_time": "2023-11-06T21:31:03.928709Z"
    }
   },
   "id": "9ab0efaff630d2a5"
  },
  {
   "cell_type": "code",
   "execution_count": null,
   "outputs": [],
   "source": [
    "titles_df['title'].unique()"
   ],
   "metadata": {
    "collapsed": false,
    "ExecuteTime": {
     "start_time": "2023-11-06T21:31:03.928791Z"
    }
   },
   "id": "1252a1aa6348597c"
  },
  {
   "cell_type": "markdown",
   "source": [
    "What is the oldest date in the to_date column?\n",
    "\n"
   ],
   "metadata": {
    "collapsed": false
   },
   "id": "4766b70ed630dc94"
  },
  {
   "cell_type": "code",
   "execution_count": null,
   "outputs": [],
   "source": [
    "(titles_df['to_date'].min())\n"
   ],
   "metadata": {
    "collapsed": false,
    "ExecuteTime": {
     "start_time": "2023-11-06T21:31:03.929246Z"
    }
   },
   "id": "aa08d01492a702c2"
  },
  {
   "cell_type": "markdown",
   "source": [
    "What is the most recent date in the to_date column?\n"
   ],
   "metadata": {
    "collapsed": false
   },
   "id": "19189e1674fcac13"
  },
  {
   "cell_type": "code",
   "execution_count": null,
   "outputs": [],
   "source": [
    "titles_df['titles'].max()"
   ],
   "metadata": {
    "collapsed": false,
    "ExecuteTime": {
     "start_time": "2023-11-06T21:31:03.930265Z"
    }
   },
   "id": "8f578a8dd8af7214"
  },
  {
   "cell_type": "code",
   "execution_count": null,
   "outputs": [],
   "source": [
    "# titles_df[['to_date'] == '1985-03-01']\n",
    "titles_df[(titles_df['to_date']) == (titles_df['to_date'].min())]"
   ],
   "metadata": {
    "collapsed": false,
    "ExecuteTime": {
     "start_time": "2023-11-06T21:31:03.931186Z"
    }
   },
   "id": "9ac3a35df6cdec7d"
  },
  {
   "cell_type": "markdown",
   "source": [
    "exercises II\n"
   ],
   "metadata": {
    "collapsed": false
   },
   "id": "eca11971d783bd3c"
  },
  {
   "cell_type": "markdown",
   "source": [
    "Copy the users and roles DataFrames from the examples above.\n",
    "\n"
   ],
   "metadata": {
    "collapsed": false
   },
   "id": "b3a6c7e50a690859"
  },
  {
   "cell_type": "code",
   "execution_count": 16,
   "outputs": [],
   "source": [
    "# Create the users DataFrame.\n",
    "\n",
    "users = pd.DataFrame({\n",
    "    'id': [1, 2, 3, 4, 5, 6],\n",
    "    'name': ['bob', 'joe', 'sally', 'adam', 'jane', 'mike'],\n",
    "    'role_id': [1, 2, 3, 3, np.nan, np.nan]\n",
    "})\n",
    "\n"
   ],
   "metadata": {
    "collapsed": false,
    "ExecuteTime": {
     "end_time": "2023-11-06T21:37:15.580348Z",
     "start_time": "2023-11-06T21:37:15.539441Z"
    }
   },
   "id": "575b9e44ff5bf929"
  },
  {
   "cell_type": "code",
   "execution_count": 18,
   "outputs": [],
   "source": [
    "# Create the roles DataFrame\n",
    "\n",
    "roles = pd.DataFrame({\n",
    "    'id': [1, 2, 3, 4],\n",
    "    'name': ['admin', 'author', 'reviewer', 'commenter']\n",
    "})\n"
   ],
   "metadata": {
    "collapsed": false,
    "ExecuteTime": {
     "end_time": "2023-11-06T21:37:32.177996Z",
     "start_time": "2023-11-06T21:37:32.111200Z"
    }
   },
   "id": "4230e55cc07fe9b7"
  },
  {
   "cell_type": "markdown",
   "source": [
    "What is the result of using a right join on the DataFrames?\n",
    "\n"
   ],
   "metadata": {
    "collapsed": false
   },
   "id": "a4b88e96bb5d4628"
  },
  {
   "cell_type": "code",
   "execution_count": 19,
   "outputs": [
    {
     "data": {
      "text/plain": "   id_x name_x  role_id  id_y     name_y\n0   1.0    bob      1.0     1      admin\n1   2.0    joe      2.0     2     author\n2   3.0  sally      3.0     3   reviewer\n3   4.0   adam      3.0     3   reviewer\n4   NaN    NaN      NaN     4  commenter",
      "text/html": "<div>\n<style scoped>\n    .dataframe tbody tr th:only-of-type {\n        vertical-align: middle;\n    }\n\n    .dataframe tbody tr th {\n        vertical-align: top;\n    }\n\n    .dataframe thead th {\n        text-align: right;\n    }\n</style>\n<table border=\"1\" class=\"dataframe\">\n  <thead>\n    <tr style=\"text-align: right;\">\n      <th></th>\n      <th>id_x</th>\n      <th>name_x</th>\n      <th>role_id</th>\n      <th>id_y</th>\n      <th>name_y</th>\n    </tr>\n  </thead>\n  <tbody>\n    <tr>\n      <th>0</th>\n      <td>1.0</td>\n      <td>bob</td>\n      <td>1.0</td>\n      <td>1</td>\n      <td>admin</td>\n    </tr>\n    <tr>\n      <th>1</th>\n      <td>2.0</td>\n      <td>joe</td>\n      <td>2.0</td>\n      <td>2</td>\n      <td>author</td>\n    </tr>\n    <tr>\n      <th>2</th>\n      <td>3.0</td>\n      <td>sally</td>\n      <td>3.0</td>\n      <td>3</td>\n      <td>reviewer</td>\n    </tr>\n    <tr>\n      <th>3</th>\n      <td>4.0</td>\n      <td>adam</td>\n      <td>3.0</td>\n      <td>3</td>\n      <td>reviewer</td>\n    </tr>\n    <tr>\n      <th>4</th>\n      <td>NaN</td>\n      <td>NaN</td>\n      <td>NaN</td>\n      <td>4</td>\n      <td>commenter</td>\n    </tr>\n  </tbody>\n</table>\n</div>"
     },
     "execution_count": 19,
     "metadata": {},
     "output_type": "execute_result"
    }
   ],
   "source": [
    "pd.merge(users, roles, how='right', left_on='role_id', right_on='id')"
   ],
   "metadata": {
    "collapsed": false,
    "ExecuteTime": {
     "end_time": "2023-11-06T21:52:59.651670Z",
     "start_time": "2023-11-06T21:52:59.395178Z"
    }
   },
   "id": "c25b824c68a641d3"
  },
  {
   "cell_type": "code",
   "execution_count": null,
   "outputs": [],
   "source": [],
   "metadata": {
    "collapsed": false
   },
   "id": "dfd8f976dce2879a"
  }
 ],
 "metadata": {
  "kernelspec": {
   "display_name": "Python 3",
   "language": "python",
   "name": "python3"
  },
  "language_info": {
   "codemirror_mode": {
    "name": "ipython",
    "version": 2
   },
   "file_extension": ".py",
   "mimetype": "text/x-python",
   "name": "python",
   "nbconvert_exporter": "python",
   "pygments_lexer": "ipython2",
   "version": "2.7.6"
  }
 },
 "nbformat": 4,
 "nbformat_minor": 5
}
