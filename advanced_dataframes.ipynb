{
 "cells": [
  {
   "cell_type": "markdown",
   "source": [
    "Run python -m pip install pymysql from your terminal to install the mysql client (any folder is fine)"
   ],
   "metadata": {
    "collapsed": false
   },
   "id": "59a2a81965d52eb4"
  },
  {
   "cell_type": "markdown",
   "source": [
    "\n",
    "cd into your exercises folder for this module and run echo env.py >> .gitignore\n"
   ],
   "metadata": {
    "collapsed": false
   },
   "id": "35fab7457e9b8684"
  },
  {
   "cell_type": "markdown",
   "source": [
    "Create a function named get_db_url. It should accept a username, hostname, password, and database name and return a url connection string formatted like in the example at the start of this lesson.\n",
    "\n"
   ],
   "metadata": {
    "collapsed": false
   },
   "id": "f07e476a752da4a2"
  },
  {
   "cell_type": "code",
   "execution_count": 3,
   "outputs": [],
   "source": [
    "def get_db_url(username,password,hostname):\n",
    "    database = input('what database?: ')\n",
    "    return f'mysql+pymysql://{username}:{password}@{hostname}/{database}'\n"
   ],
   "metadata": {
    "collapsed": false,
    "ExecuteTime": {
     "end_time": "2023-11-07T23:04:41.724152Z",
     "start_time": "2023-11-07T23:04:41.259842Z"
    }
   },
   "id": "2cf4814009cb09e5"
  },
  {
   "cell_type": "code",
   "execution_count": 104,
   "outputs": [
    {
     "ename": "ModuleNotFoundError",
     "evalue": "No module named 'mapplotlib'",
     "output_type": "error",
     "traceback": [
      "\u001B[0;31m---------------------------------------------------------------------------\u001B[0m",
      "\u001B[0;31mModuleNotFoundError\u001B[0m                       Traceback (most recent call last)",
      "Cell \u001B[0;32mIn[104], line 4\u001B[0m\n\u001B[1;32m      2\u001B[0m \u001B[38;5;28;01mimport\u001B[39;00m \u001B[38;5;21;01mpandas\u001B[39;00m \u001B[38;5;28;01mas\u001B[39;00m \u001B[38;5;21;01mpd\u001B[39;00m\n\u001B[1;32m      3\u001B[0m \u001B[38;5;28;01mimport\u001B[39;00m \u001B[38;5;21;01mnumpy\u001B[39;00m \u001B[38;5;28;01mas\u001B[39;00m \u001B[38;5;21;01mnp\u001B[39;00m\n\u001B[0;32m----> 4\u001B[0m \u001B[38;5;28;01mimport\u001B[39;00m \u001B[38;5;21;01mmapplotlib\u001B[39;00m\n",
      "\u001B[0;31mModuleNotFoundError\u001B[0m: No module named 'mapplotlib'"
     ]
    }
   ],
   "source": [
    "import env\n",
    "import pandas as pd\n",
    "import numpy as np\n",
    "import mapplotlib"
   ],
   "metadata": {
    "collapsed": false,
    "ExecuteTime": {
     "end_time": "2023-11-08T01:56:34.620285Z",
     "start_time": "2023-11-08T01:56:34.546075Z"
    }
   },
   "id": "ebcf366e1f222972"
  },
  {
   "cell_type": "markdown",
   "source": [
    "Use your function to obtain a connection to the employees database.\n",
    "\n"
   ],
   "metadata": {
    "collapsed": false
   },
   "id": "2087506bfed2811f"
  },
  {
   "cell_type": "code",
   "execution_count": 5,
   "outputs": [
    {
     "data": {
      "text/plain": "   emp_no  birth_date first_name last_name gender   hire_date\n0   10001  1953-09-02     Georgi   Facello      M  1986-06-26\n1   10002  1964-06-02    Bezalel    Simmel      F  1985-11-21\n2   10003  1959-12-03      Parto   Bamford      M  1986-08-28\n3   10004  1954-05-01  Chirstian   Koblick      M  1986-12-01\n4   10005  1955-01-21    Kyoichi  Maliniak      M  1989-09-12",
      "text/html": "<div>\n<style scoped>\n    .dataframe tbody tr th:only-of-type {\n        vertical-align: middle;\n    }\n\n    .dataframe tbody tr th {\n        vertical-align: top;\n    }\n\n    .dataframe thead th {\n        text-align: right;\n    }\n</style>\n<table border=\"1\" class=\"dataframe\">\n  <thead>\n    <tr style=\"text-align: right;\">\n      <th></th>\n      <th>emp_no</th>\n      <th>birth_date</th>\n      <th>first_name</th>\n      <th>last_name</th>\n      <th>gender</th>\n      <th>hire_date</th>\n    </tr>\n  </thead>\n  <tbody>\n    <tr>\n      <th>0</th>\n      <td>10001</td>\n      <td>1953-09-02</td>\n      <td>Georgi</td>\n      <td>Facello</td>\n      <td>M</td>\n      <td>1986-06-26</td>\n    </tr>\n    <tr>\n      <th>1</th>\n      <td>10002</td>\n      <td>1964-06-02</td>\n      <td>Bezalel</td>\n      <td>Simmel</td>\n      <td>F</td>\n      <td>1985-11-21</td>\n    </tr>\n    <tr>\n      <th>2</th>\n      <td>10003</td>\n      <td>1959-12-03</td>\n      <td>Parto</td>\n      <td>Bamford</td>\n      <td>M</td>\n      <td>1986-08-28</td>\n    </tr>\n    <tr>\n      <th>3</th>\n      <td>10004</td>\n      <td>1954-05-01</td>\n      <td>Chirstian</td>\n      <td>Koblick</td>\n      <td>M</td>\n      <td>1986-12-01</td>\n    </tr>\n    <tr>\n      <th>4</th>\n      <td>10005</td>\n      <td>1955-01-21</td>\n      <td>Kyoichi</td>\n      <td>Maliniak</td>\n      <td>M</td>\n      <td>1989-09-12</td>\n    </tr>\n  </tbody>\n</table>\n</div>"
     },
     "execution_count": 5,
     "metadata": {},
     "output_type": "execute_result"
    }
   ],
   "source": [
    "url = get_db_url(env.user, env.password,env.host)\n",
    "pd.read_sql('select * from employees limit 5', url)"
   ],
   "metadata": {
    "collapsed": false,
    "ExecuteTime": {
     "end_time": "2023-11-07T23:04:54.399135Z",
     "start_time": "2023-11-07T23:04:41.961402Z"
    }
   },
   "id": "3a89186ecb3aaa53"
  },
  {
   "cell_type": "markdown",
   "source": [
    "Once you have successfully run a query:\n",
    "\n",
    "a. Intentionally make a typo in the database url. What kind of error message do you see?\n",
    "\n",
    "b. Intentionally make an error in your SQL query. What does the error message look like?"
   ],
   "metadata": {
    "collapsed": false
   },
   "id": "e7a16c1640284649"
  },
  {
   "cell_type": "code",
   "execution_count": 6,
   "outputs": [
    {
     "ename": "TypeError",
     "evalue": "get_db_url() takes 3 positional arguments but 4 were given",
     "output_type": "error",
     "traceback": [
      "\u001B[0;31m---------------------------------------------------------------------------\u001B[0m",
      "\u001B[0;31mTypeError\u001B[0m                                 Traceback (most recent call last)",
      "Cell \u001B[0;32mIn[6], line 1\u001B[0m\n\u001B[0;32m----> 1\u001B[0m wrong_url \u001B[38;5;241m=\u001B[39m \u001B[43mget_db_url\u001B[49m\u001B[43m(\u001B[49m\u001B[43menv\u001B[49m\u001B[38;5;241;43m.\u001B[39;49m\u001B[43muser\u001B[49m\u001B[43m,\u001B[49m\u001B[43m \u001B[49m\u001B[43menv\u001B[49m\u001B[38;5;241;43m.\u001B[39;49m\u001B[43mpassword\u001B[49m\u001B[43m,\u001B[49m\u001B[43menv\u001B[49m\u001B[38;5;241;43m.\u001B[39;49m\u001B[43mhost\u001B[49m\u001B[43m,\u001B[49m\u001B[38;5;124;43m'\u001B[39;49m\u001B[38;5;124;43memploye\u001B[39;49m\u001B[38;5;124;43m'\u001B[39;49m\u001B[43m)\u001B[49m\n\u001B[1;32m      2\u001B[0m \u001B[38;5;66;03m# pd.read_sql('select * from employees limit 5', wrong_url)\u001B[39;00m\n\u001B[1;32m      3\u001B[0m \u001B[38;5;66;03m# pd.read_sql('select from employees limit 5', url)\u001B[39;00m\n",
      "\u001B[0;31mTypeError\u001B[0m: get_db_url() takes 3 positional arguments but 4 were given"
     ]
    }
   ],
   "source": [
    "wrong_url = get_db_url(env.user, env.password,env.host,'employe')\n",
    "# pd.read_sql('select * from employees limit 5', wrong_url)\n",
    "# pd.read_sql('select from employees limit 5', url)"
   ],
   "metadata": {
    "collapsed": false,
    "ExecuteTime": {
     "end_time": "2023-11-07T23:04:54.442696Z",
     "start_time": "2023-11-07T23:04:54.377554Z"
    }
   },
   "id": "3e480387cbce98c1"
  },
  {
   "cell_type": "markdown",
   "source": [
    "Read the employees and titles tables into two separate DataFrames.\n",
    "\n",
    "How many rows and columns do you have in each DataFrame? Is that what you expected?\n"
   ],
   "metadata": {
    "collapsed": false
   },
   "id": "445da894aa638015"
  },
  {
   "cell_type": "code",
   "execution_count": null,
   "outputs": [],
   "source": [
    "employees_df = pd.read_sql('select * from employees', url)"
   ],
   "metadata": {
    "collapsed": false,
    "ExecuteTime": {
     "start_time": "2023-11-07T23:04:54.415158Z"
    }
   },
   "id": "e69d283a5cb90590"
  },
  {
   "cell_type": "code",
   "execution_count": null,
   "outputs": [],
   "source": [
    "url"
   ],
   "metadata": {
    "collapsed": false,
    "ExecuteTime": {
     "start_time": "2023-11-07T23:04:54.417669Z"
    }
   },
   "id": "2af002185523acd5"
  },
  {
   "cell_type": "code",
   "execution_count": null,
   "outputs": [],
   "source": [
    "titles_df = pd.read_sql('select * from titles', url)"
   ],
   "metadata": {
    "collapsed": false,
    "ExecuteTime": {
     "start_time": "2023-11-07T23:04:54.418949Z"
    }
   },
   "id": "a49dd158fb7312a1"
  },
  {
   "cell_type": "code",
   "execution_count": null,
   "outputs": [],
   "source": [
    "employees_df.info()"
   ],
   "metadata": {
    "collapsed": false,
    "ExecuteTime": {
     "start_time": "2023-11-07T23:04:54.420578Z"
    }
   },
   "id": "c6f7ae47226e38be"
  },
  {
   "cell_type": "code",
   "execution_count": null,
   "outputs": [],
   "source": [
    "titles_df.info()"
   ],
   "metadata": {
    "collapsed": false,
    "ExecuteTime": {
     "start_time": "2023-11-07T23:04:54.422704Z"
    }
   },
   "id": "40819d54d598642a"
  },
  {
   "cell_type": "markdown",
   "source": [
    "Display the summary statistics for each DataFrame.\n",
    "\n"
   ],
   "metadata": {
    "collapsed": false
   },
   "id": "534c2c1ac5c413e1"
  },
  {
   "cell_type": "code",
   "execution_count": null,
   "outputs": [],
   "source": [
    "employees_df.describe()"
   ],
   "metadata": {
    "collapsed": false,
    "ExecuteTime": {
     "start_time": "2023-11-07T23:04:54.425960Z"
    }
   },
   "id": "a1596a16a174872b"
  },
  {
   "cell_type": "code",
   "execution_count": null,
   "outputs": [],
   "source": [
    "titles_df.describe()"
   ],
   "metadata": {
    "collapsed": false,
    "ExecuteTime": {
     "start_time": "2023-11-07T23:04:54.426139Z"
    }
   },
   "id": "1d83c51c19930443"
  },
  {
   "cell_type": "markdown",
   "source": [
    "How many unique titles are in the titles DataFrame?"
   ],
   "metadata": {
    "collapsed": false
   },
   "id": "4721d9169ad2ae61"
  },
  {
   "cell_type": "code",
   "execution_count": null,
   "outputs": [],
   "source": [
    "unique_titles = pd.read_sql('select distinct title from titles',url)"
   ],
   "metadata": {
    "collapsed": false,
    "ExecuteTime": {
     "start_time": "2023-11-07T23:04:54.429354Z"
    }
   },
   "id": "12908ab4022abb2d"
  },
  {
   "cell_type": "code",
   "execution_count": null,
   "outputs": [],
   "source": [
    "unique_titles"
   ],
   "metadata": {
    "collapsed": false,
    "ExecuteTime": {
     "start_time": "2023-11-07T23:04:54.429536Z"
    }
   },
   "id": "9ab0efaff630d2a5"
  },
  {
   "cell_type": "code",
   "execution_count": null,
   "outputs": [],
   "source": [
    "titles_df['title'].unique()"
   ],
   "metadata": {
    "collapsed": false,
    "ExecuteTime": {
     "start_time": "2023-11-07T23:04:54.430314Z"
    }
   },
   "id": "1252a1aa6348597c"
  },
  {
   "cell_type": "markdown",
   "source": [
    "What is the oldest date in the to_date column?\n",
    "\n"
   ],
   "metadata": {
    "collapsed": false
   },
   "id": "4766b70ed630dc94"
  },
  {
   "cell_type": "code",
   "execution_count": null,
   "outputs": [],
   "source": [
    "(titles_df['to_date'].min())\n"
   ],
   "metadata": {
    "collapsed": false,
    "ExecuteTime": {
     "start_time": "2023-11-07T23:04:54.432614Z"
    }
   },
   "id": "aa08d01492a702c2"
  },
  {
   "cell_type": "markdown",
   "source": [
    "What is the most recent date in the to_date column?\n"
   ],
   "metadata": {
    "collapsed": false
   },
   "id": "19189e1674fcac13"
  },
  {
   "cell_type": "code",
   "execution_count": null,
   "outputs": [],
   "source": [
    "titles_df['titles'].max()"
   ],
   "metadata": {
    "collapsed": false,
    "ExecuteTime": {
     "start_time": "2023-11-07T23:04:54.433880Z"
    }
   },
   "id": "8f578a8dd8af7214"
  },
  {
   "cell_type": "code",
   "execution_count": null,
   "outputs": [],
   "source": [
    "# titles_df[['to_date'] == '1985-03-01']\n",
    "titles_df[(titles_df['to_date']) == (titles_df['to_date'].min())]"
   ],
   "metadata": {
    "collapsed": false,
    "ExecuteTime": {
     "start_time": "2023-11-07T23:04:54.435292Z"
    }
   },
   "id": "9ac3a35df6cdec7d"
  },
  {
   "cell_type": "markdown",
   "source": [
    "exercises II\n"
   ],
   "metadata": {
    "collapsed": false
   },
   "id": "eca11971d783bd3c"
  },
  {
   "cell_type": "markdown",
   "source": [
    "Copy the users and roles DataFrames from the examples above.\n",
    "\n"
   ],
   "metadata": {
    "collapsed": false
   },
   "id": "b3a6c7e50a690859"
  },
  {
   "cell_type": "code",
   "execution_count": null,
   "outputs": [],
   "source": [
    "# Create the users DataFrame.\n",
    "\n",
    "users = pd.DataFrame({\n",
    "    'id': [1, 2, 3, 4, 5, 6],\n",
    "    'name': ['bob', 'joe', 'sally', 'adam', 'jane', 'mike'],\n",
    "    'role_id': [1, 2, 3, 3, np.nan, np.nan]\n",
    "})\n",
    "\n"
   ],
   "metadata": {
    "collapsed": false,
    "ExecuteTime": {
     "start_time": "2023-11-07T23:04:54.436791Z"
    }
   },
   "id": "575b9e44ff5bf929"
  },
  {
   "cell_type": "code",
   "execution_count": null,
   "outputs": [],
   "source": [
    "# Create the roles DataFrame\n",
    "\n",
    "roles = pd.DataFrame({\n",
    "    'id': [1, 2, 3, 4],\n",
    "    'name': ['admin', 'author', 'reviewer', 'commenter']\n",
    "})\n"
   ],
   "metadata": {
    "collapsed": false,
    "ExecuteTime": {
     "start_time": "2023-11-07T23:04:54.437934Z"
    }
   },
   "id": "4230e55cc07fe9b7"
  },
  {
   "cell_type": "markdown",
   "source": [
    "What is the result of using a right join on the DataFrames?\n",
    "\n"
   ],
   "metadata": {
    "collapsed": false
   },
   "id": "a4b88e96bb5d4628"
  },
  {
   "cell_type": "code",
   "execution_count": null,
   "outputs": [],
   "source": [
    "pd.merge(users, roles, how='right', left_on='role_id', right_on='id')"
   ],
   "metadata": {
    "collapsed": false,
    "ExecuteTime": {
     "start_time": "2023-11-07T23:04:54.439111Z"
    }
   },
   "id": "c25b824c68a641d3"
  },
  {
   "cell_type": "markdown",
   "source": [
    "What is the result of using an outer join on the DataFrames?\n",
    "\n"
   ],
   "metadata": {
    "collapsed": false
   },
   "id": "a77e4f1053c65ad7"
  },
  {
   "cell_type": "code",
   "execution_count": null,
   "outputs": [],
   "source": [
    "pd.merge(users, roles, how='outer', left_on='role_id', right_on='id')"
   ],
   "metadata": {
    "collapsed": false,
    "ExecuteTime": {
     "start_time": "2023-11-07T23:04:54.440134Z"
    }
   },
   "id": "5e4731d7430a4d3a"
  },
  {
   "cell_type": "markdown",
   "source": [
    "What happens if you drop the foreign keys from the DataFrames and try to merge them?\n",
    "\n"
   ],
   "metadata": {
    "collapsed": false
   },
   "id": "e6d512324449e222"
  },
  {
   "cell_type": "code",
   "execution_count": null,
   "outputs": [],
   "source": [
    "users.drop(columns='role_id')"
   ],
   "metadata": {
    "collapsed": false,
    "ExecuteTime": {
     "start_time": "2023-11-07T23:04:54.440931Z"
    }
   },
   "id": "20c91d8db0993358"
  },
  {
   "cell_type": "markdown",
   "source": [
    "Load the mpg dataset from PyDataset.\n",
    "\n"
   ],
   "metadata": {
    "collapsed": false
   },
   "id": "f3f5a8d679bfee76"
  },
  {
   "cell_type": "code",
   "execution_count": 22,
   "outputs": [
    {
     "data": {
      "text/plain": "    manufacturer   model  displ  year  cyl       trans drv  cty  hwy fl  \\\n1           audi      a4    1.8  1999    4    auto(l5)   f   18   29  p   \n2           audi      a4    1.8  1999    4  manual(m5)   f   21   29  p   \n3           audi      a4    2.0  2008    4  manual(m6)   f   20   31  p   \n4           audi      a4    2.0  2008    4    auto(av)   f   21   30  p   \n5           audi      a4    2.8  1999    6    auto(l5)   f   16   26  p   \n..           ...     ...    ...   ...  ...         ...  ..  ...  ... ..   \n230   volkswagen  passat    2.0  2008    4    auto(s6)   f   19   28  p   \n231   volkswagen  passat    2.0  2008    4  manual(m6)   f   21   29  p   \n232   volkswagen  passat    2.8  1999    6    auto(l5)   f   16   26  p   \n233   volkswagen  passat    2.8  1999    6  manual(m5)   f   18   26  p   \n234   volkswagen  passat    3.6  2008    6    auto(s6)   f   17   26  p   \n\n       class  \n1    compact  \n2    compact  \n3    compact  \n4    compact  \n5    compact  \n..       ...  \n230  midsize  \n231  midsize  \n232  midsize  \n233  midsize  \n234  midsize  \n\n[234 rows x 11 columns]",
      "text/html": "<div>\n<style scoped>\n    .dataframe tbody tr th:only-of-type {\n        vertical-align: middle;\n    }\n\n    .dataframe tbody tr th {\n        vertical-align: top;\n    }\n\n    .dataframe thead th {\n        text-align: right;\n    }\n</style>\n<table border=\"1\" class=\"dataframe\">\n  <thead>\n    <tr style=\"text-align: right;\">\n      <th></th>\n      <th>manufacturer</th>\n      <th>model</th>\n      <th>displ</th>\n      <th>year</th>\n      <th>cyl</th>\n      <th>trans</th>\n      <th>drv</th>\n      <th>cty</th>\n      <th>hwy</th>\n      <th>fl</th>\n      <th>class</th>\n    </tr>\n  </thead>\n  <tbody>\n    <tr>\n      <th>1</th>\n      <td>audi</td>\n      <td>a4</td>\n      <td>1.8</td>\n      <td>1999</td>\n      <td>4</td>\n      <td>auto(l5)</td>\n      <td>f</td>\n      <td>18</td>\n      <td>29</td>\n      <td>p</td>\n      <td>compact</td>\n    </tr>\n    <tr>\n      <th>2</th>\n      <td>audi</td>\n      <td>a4</td>\n      <td>1.8</td>\n      <td>1999</td>\n      <td>4</td>\n      <td>manual(m5)</td>\n      <td>f</td>\n      <td>21</td>\n      <td>29</td>\n      <td>p</td>\n      <td>compact</td>\n    </tr>\n    <tr>\n      <th>3</th>\n      <td>audi</td>\n      <td>a4</td>\n      <td>2.0</td>\n      <td>2008</td>\n      <td>4</td>\n      <td>manual(m6)</td>\n      <td>f</td>\n      <td>20</td>\n      <td>31</td>\n      <td>p</td>\n      <td>compact</td>\n    </tr>\n    <tr>\n      <th>4</th>\n      <td>audi</td>\n      <td>a4</td>\n      <td>2.0</td>\n      <td>2008</td>\n      <td>4</td>\n      <td>auto(av)</td>\n      <td>f</td>\n      <td>21</td>\n      <td>30</td>\n      <td>p</td>\n      <td>compact</td>\n    </tr>\n    <tr>\n      <th>5</th>\n      <td>audi</td>\n      <td>a4</td>\n      <td>2.8</td>\n      <td>1999</td>\n      <td>6</td>\n      <td>auto(l5)</td>\n      <td>f</td>\n      <td>16</td>\n      <td>26</td>\n      <td>p</td>\n      <td>compact</td>\n    </tr>\n    <tr>\n      <th>...</th>\n      <td>...</td>\n      <td>...</td>\n      <td>...</td>\n      <td>...</td>\n      <td>...</td>\n      <td>...</td>\n      <td>...</td>\n      <td>...</td>\n      <td>...</td>\n      <td>...</td>\n      <td>...</td>\n    </tr>\n    <tr>\n      <th>230</th>\n      <td>volkswagen</td>\n      <td>passat</td>\n      <td>2.0</td>\n      <td>2008</td>\n      <td>4</td>\n      <td>auto(s6)</td>\n      <td>f</td>\n      <td>19</td>\n      <td>28</td>\n      <td>p</td>\n      <td>midsize</td>\n    </tr>\n    <tr>\n      <th>231</th>\n      <td>volkswagen</td>\n      <td>passat</td>\n      <td>2.0</td>\n      <td>2008</td>\n      <td>4</td>\n      <td>manual(m6)</td>\n      <td>f</td>\n      <td>21</td>\n      <td>29</td>\n      <td>p</td>\n      <td>midsize</td>\n    </tr>\n    <tr>\n      <th>232</th>\n      <td>volkswagen</td>\n      <td>passat</td>\n      <td>2.8</td>\n      <td>1999</td>\n      <td>6</td>\n      <td>auto(l5)</td>\n      <td>f</td>\n      <td>16</td>\n      <td>26</td>\n      <td>p</td>\n      <td>midsize</td>\n    </tr>\n    <tr>\n      <th>233</th>\n      <td>volkswagen</td>\n      <td>passat</td>\n      <td>2.8</td>\n      <td>1999</td>\n      <td>6</td>\n      <td>manual(m5)</td>\n      <td>f</td>\n      <td>18</td>\n      <td>26</td>\n      <td>p</td>\n      <td>midsize</td>\n    </tr>\n    <tr>\n      <th>234</th>\n      <td>volkswagen</td>\n      <td>passat</td>\n      <td>3.6</td>\n      <td>2008</td>\n      <td>6</td>\n      <td>auto(s6)</td>\n      <td>f</td>\n      <td>17</td>\n      <td>26</td>\n      <td>p</td>\n      <td>midsize</td>\n    </tr>\n  </tbody>\n</table>\n<p>234 rows × 11 columns</p>\n</div>"
     },
     "execution_count": 22,
     "metadata": {},
     "output_type": "execute_result"
    }
   ],
   "source": [
    "from pydataset import data\n",
    "mpg = data('mpg')\n",
    "mpg"
   ],
   "metadata": {
    "collapsed": false,
    "ExecuteTime": {
     "end_time": "2023-11-07T23:09:42.841372Z",
     "start_time": "2023-11-07T23:09:42.766102Z"
    }
   },
   "id": "b7c3f92505a04844"
  },
  {
   "cell_type": "markdown",
   "source": [
    "Output and read the documentation for the mpg dataset."
   ],
   "metadata": {
    "collapsed": false
   },
   "id": "a56c5429db87a4d1"
  },
  {
   "cell_type": "code",
   "execution_count": 23,
   "outputs": [
    {
     "data": {
      "text/plain": "<bound method NDFrame.describe of     manufacturer   model  displ  year  cyl       trans drv  cty  hwy fl  \\\n1           audi      a4    1.8  1999    4    auto(l5)   f   18   29  p   \n2           audi      a4    1.8  1999    4  manual(m5)   f   21   29  p   \n3           audi      a4    2.0  2008    4  manual(m6)   f   20   31  p   \n4           audi      a4    2.0  2008    4    auto(av)   f   21   30  p   \n5           audi      a4    2.8  1999    6    auto(l5)   f   16   26  p   \n..           ...     ...    ...   ...  ...         ...  ..  ...  ... ..   \n230   volkswagen  passat    2.0  2008    4    auto(s6)   f   19   28  p   \n231   volkswagen  passat    2.0  2008    4  manual(m6)   f   21   29  p   \n232   volkswagen  passat    2.8  1999    6    auto(l5)   f   16   26  p   \n233   volkswagen  passat    2.8  1999    6  manual(m5)   f   18   26  p   \n234   volkswagen  passat    3.6  2008    6    auto(s6)   f   17   26  p   \n\n       class  \n1    compact  \n2    compact  \n3    compact  \n4    compact  \n5    compact  \n..       ...  \n230  midsize  \n231  midsize  \n232  midsize  \n233  midsize  \n234  midsize  \n\n[234 rows x 11 columns]>"
     },
     "execution_count": 23,
     "metadata": {},
     "output_type": "execute_result"
    }
   ],
   "source": [
    "mpg.describe"
   ],
   "metadata": {
    "collapsed": false,
    "ExecuteTime": {
     "end_time": "2023-11-07T23:09:45.540679Z",
     "start_time": "2023-11-07T23:09:45.510330Z"
    }
   },
   "id": "6e8d62397fcec4eb"
  },
  {
   "cell_type": "markdown",
   "source": [
    "How many rows and columns are in the dataset?\n",
    "\n"
   ],
   "metadata": {
    "collapsed": false
   },
   "id": "af7ca712d9ea404e"
  },
  {
   "cell_type": "code",
   "execution_count": null,
   "outputs": [],
   "source": [
    "mpg.shape\n"
   ],
   "metadata": {
    "collapsed": false,
    "ExecuteTime": {
     "end_time": "2023-11-07T23:04:54.452594Z",
     "start_time": "2023-11-07T23:04:54.443806Z"
    }
   },
   "id": "2757a59d35c270f4"
  },
  {
   "cell_type": "markdown",
   "source": [
    "Check out your column names and perform any cleanup you may want on them."
   ],
   "metadata": {
    "collapsed": false
   },
   "id": "4fe02a69591aeca8"
  },
  {
   "cell_type": "code",
   "execution_count": null,
   "outputs": [],
   "source": [
    "mpg.rename(columns={'class':'cls'})"
   ],
   "metadata": {
    "collapsed": false,
    "ExecuteTime": {
     "start_time": "2023-11-07T23:04:54.446191Z"
    }
   },
   "id": "5f5967f25968b36d"
  },
  {
   "cell_type": "markdown",
   "source": [
    "Display the summary statistics for the dataset.\n",
    "\n"
   ],
   "metadata": {
    "collapsed": false
   },
   "id": "a0bb477a9f83fa4a"
  },
  {
   "cell_type": "code",
   "execution_count": null,
   "outputs": [],
   "source": [
    "mpg.describe()\n"
   ],
   "metadata": {
    "collapsed": false,
    "ExecuteTime": {
     "start_time": "2023-11-07T23:04:54.447312Z"
    }
   },
   "id": "27f5b7412c87332b"
  },
  {
   "cell_type": "markdown",
   "source": [
    "How many different manufacturers are there?"
   ],
   "metadata": {
    "collapsed": false
   },
   "id": "25f46fc4f774af87"
  },
  {
   "cell_type": "code",
   "execution_count": null,
   "outputs": [],
   "source": [
    "len(mpg['manufacturer'].unique())"
   ],
   "metadata": {
    "collapsed": false,
    "ExecuteTime": {
     "start_time": "2023-11-07T23:04:54.447596Z"
    }
   },
   "id": "f20f923b79698cdb"
  },
  {
   "cell_type": "markdown",
   "source": [
    "How many different models are there?"
   ],
   "metadata": {
    "collapsed": false
   },
   "id": "144869549affca71"
  },
  {
   "cell_type": "code",
   "execution_count": 11,
   "outputs": [
    {
     "data": {
      "text/plain": "38"
     },
     "execution_count": 11,
     "metadata": {},
     "output_type": "execute_result"
    }
   ],
   "source": [
    "len(mpg['model'].unique())"
   ],
   "metadata": {
    "collapsed": false,
    "ExecuteTime": {
     "end_time": "2023-11-07T23:05:36.779486Z",
     "start_time": "2023-11-07T23:05:36.743834Z"
    }
   },
   "id": "68ecb41a2a5486f"
  },
  {
   "cell_type": "markdown",
   "source": [
    "Create a column named mileage_difference like you did in the DataFrames exercises; this column should contain the difference between highway and city mileage for each car."
   ],
   "metadata": {
    "collapsed": false
   },
   "id": "d765ecaf55eb5ed8"
  },
  {
   "cell_type": "code",
   "execution_count": 24,
   "outputs": [],
   "source": [
    "mpg['average_mileage'] = mpg['hwy']- mpg.cty"
   ],
   "metadata": {
    "collapsed": false,
    "ExecuteTime": {
     "end_time": "2023-11-07T23:10:01.027701Z",
     "start_time": "2023-11-07T23:10:00.978078Z"
    }
   },
   "id": "8047e546965cb73e"
  },
  {
   "cell_type": "code",
   "execution_count": null,
   "outputs": [],
   "source": [],
   "metadata": {
    "collapsed": false
   },
   "id": "2141e2b5419689ce"
  },
  {
   "cell_type": "code",
   "execution_count": 25,
   "outputs": [
    {
     "data": {
      "text/plain": "    manufacturer   model  displ  year  cyl       trans drv  cty  hwy fl  \\\n1           audi      a4    1.8  1999    4    auto(l5)   f   18   29  p   \n2           audi      a4    1.8  1999    4  manual(m5)   f   21   29  p   \n3           audi      a4    2.0  2008    4  manual(m6)   f   20   31  p   \n4           audi      a4    2.0  2008    4    auto(av)   f   21   30  p   \n5           audi      a4    2.8  1999    6    auto(l5)   f   16   26  p   \n..           ...     ...    ...   ...  ...         ...  ..  ...  ... ..   \n230   volkswagen  passat    2.0  2008    4    auto(s6)   f   19   28  p   \n231   volkswagen  passat    2.0  2008    4  manual(m6)   f   21   29  p   \n232   volkswagen  passat    2.8  1999    6    auto(l5)   f   16   26  p   \n233   volkswagen  passat    2.8  1999    6  manual(m5)   f   18   26  p   \n234   volkswagen  passat    3.6  2008    6    auto(s6)   f   17   26  p   \n\n       class  average_mileage  \n1    compact               11  \n2    compact                8  \n3    compact               11  \n4    compact                9  \n5    compact               10  \n..       ...              ...  \n230  midsize                9  \n231  midsize                8  \n232  midsize               10  \n233  midsize                8  \n234  midsize                9  \n\n[234 rows x 12 columns]",
      "text/html": "<div>\n<style scoped>\n    .dataframe tbody tr th:only-of-type {\n        vertical-align: middle;\n    }\n\n    .dataframe tbody tr th {\n        vertical-align: top;\n    }\n\n    .dataframe thead th {\n        text-align: right;\n    }\n</style>\n<table border=\"1\" class=\"dataframe\">\n  <thead>\n    <tr style=\"text-align: right;\">\n      <th></th>\n      <th>manufacturer</th>\n      <th>model</th>\n      <th>displ</th>\n      <th>year</th>\n      <th>cyl</th>\n      <th>trans</th>\n      <th>drv</th>\n      <th>cty</th>\n      <th>hwy</th>\n      <th>fl</th>\n      <th>class</th>\n      <th>average_mileage</th>\n    </tr>\n  </thead>\n  <tbody>\n    <tr>\n      <th>1</th>\n      <td>audi</td>\n      <td>a4</td>\n      <td>1.8</td>\n      <td>1999</td>\n      <td>4</td>\n      <td>auto(l5)</td>\n      <td>f</td>\n      <td>18</td>\n      <td>29</td>\n      <td>p</td>\n      <td>compact</td>\n      <td>11</td>\n    </tr>\n    <tr>\n      <th>2</th>\n      <td>audi</td>\n      <td>a4</td>\n      <td>1.8</td>\n      <td>1999</td>\n      <td>4</td>\n      <td>manual(m5)</td>\n      <td>f</td>\n      <td>21</td>\n      <td>29</td>\n      <td>p</td>\n      <td>compact</td>\n      <td>8</td>\n    </tr>\n    <tr>\n      <th>3</th>\n      <td>audi</td>\n      <td>a4</td>\n      <td>2.0</td>\n      <td>2008</td>\n      <td>4</td>\n      <td>manual(m6)</td>\n      <td>f</td>\n      <td>20</td>\n      <td>31</td>\n      <td>p</td>\n      <td>compact</td>\n      <td>11</td>\n    </tr>\n    <tr>\n      <th>4</th>\n      <td>audi</td>\n      <td>a4</td>\n      <td>2.0</td>\n      <td>2008</td>\n      <td>4</td>\n      <td>auto(av)</td>\n      <td>f</td>\n      <td>21</td>\n      <td>30</td>\n      <td>p</td>\n      <td>compact</td>\n      <td>9</td>\n    </tr>\n    <tr>\n      <th>5</th>\n      <td>audi</td>\n      <td>a4</td>\n      <td>2.8</td>\n      <td>1999</td>\n      <td>6</td>\n      <td>auto(l5)</td>\n      <td>f</td>\n      <td>16</td>\n      <td>26</td>\n      <td>p</td>\n      <td>compact</td>\n      <td>10</td>\n    </tr>\n    <tr>\n      <th>...</th>\n      <td>...</td>\n      <td>...</td>\n      <td>...</td>\n      <td>...</td>\n      <td>...</td>\n      <td>...</td>\n      <td>...</td>\n      <td>...</td>\n      <td>...</td>\n      <td>...</td>\n      <td>...</td>\n      <td>...</td>\n    </tr>\n    <tr>\n      <th>230</th>\n      <td>volkswagen</td>\n      <td>passat</td>\n      <td>2.0</td>\n      <td>2008</td>\n      <td>4</td>\n      <td>auto(s6)</td>\n      <td>f</td>\n      <td>19</td>\n      <td>28</td>\n      <td>p</td>\n      <td>midsize</td>\n      <td>9</td>\n    </tr>\n    <tr>\n      <th>231</th>\n      <td>volkswagen</td>\n      <td>passat</td>\n      <td>2.0</td>\n      <td>2008</td>\n      <td>4</td>\n      <td>manual(m6)</td>\n      <td>f</td>\n      <td>21</td>\n      <td>29</td>\n      <td>p</td>\n      <td>midsize</td>\n      <td>8</td>\n    </tr>\n    <tr>\n      <th>232</th>\n      <td>volkswagen</td>\n      <td>passat</td>\n      <td>2.8</td>\n      <td>1999</td>\n      <td>6</td>\n      <td>auto(l5)</td>\n      <td>f</td>\n      <td>16</td>\n      <td>26</td>\n      <td>p</td>\n      <td>midsize</td>\n      <td>10</td>\n    </tr>\n    <tr>\n      <th>233</th>\n      <td>volkswagen</td>\n      <td>passat</td>\n      <td>2.8</td>\n      <td>1999</td>\n      <td>6</td>\n      <td>manual(m5)</td>\n      <td>f</td>\n      <td>18</td>\n      <td>26</td>\n      <td>p</td>\n      <td>midsize</td>\n      <td>8</td>\n    </tr>\n    <tr>\n      <th>234</th>\n      <td>volkswagen</td>\n      <td>passat</td>\n      <td>3.6</td>\n      <td>2008</td>\n      <td>6</td>\n      <td>auto(s6)</td>\n      <td>f</td>\n      <td>17</td>\n      <td>26</td>\n      <td>p</td>\n      <td>midsize</td>\n      <td>9</td>\n    </tr>\n  </tbody>\n</table>\n<p>234 rows × 12 columns</p>\n</div>"
     },
     "execution_count": 25,
     "metadata": {},
     "output_type": "execute_result"
    }
   ],
   "source": [
    "mpg"
   ],
   "metadata": {
    "collapsed": false,
    "ExecuteTime": {
     "end_time": "2023-11-07T23:10:09.147022Z",
     "start_time": "2023-11-07T23:10:09.054695Z"
    }
   },
   "id": "8f35553faa31bebe"
  },
  {
   "cell_type": "markdown",
   "source": [
    "Create a column named average_mileage like you did in the DataFrames exercises; this is the mean of the city and highway mileage."
   ],
   "metadata": {
    "collapsed": false
   },
   "id": "9a8b296ac4e2c4f3"
  },
  {
   "cell_type": "code",
   "execution_count": 32,
   "outputs": [],
   "source": [
    "mpg['average_mileage'] = mpg[['cty','hwy']].mean(axis=1)"
   ],
   "metadata": {
    "collapsed": false,
    "ExecuteTime": {
     "end_time": "2023-11-07T23:39:39.406564Z",
     "start_time": "2023-11-07T23:39:39.383625Z"
    }
   },
   "id": "a477ca7018b5f379"
  },
  {
   "cell_type": "code",
   "execution_count": 33,
   "outputs": [
    {
     "data": {
      "text/plain": "    manufacturer   model  displ  year  cyl       trans drv  cty  hwy fl  \\\n1           audi      a4    1.8  1999    4    auto(l5)   f   18   29  p   \n2           audi      a4    1.8  1999    4  manual(m5)   f   21   29  p   \n3           audi      a4    2.0  2008    4  manual(m6)   f   20   31  p   \n4           audi      a4    2.0  2008    4    auto(av)   f   21   30  p   \n5           audi      a4    2.8  1999    6    auto(l5)   f   16   26  p   \n..           ...     ...    ...   ...  ...         ...  ..  ...  ... ..   \n230   volkswagen  passat    2.0  2008    4    auto(s6)   f   19   28  p   \n231   volkswagen  passat    2.0  2008    4  manual(m6)   f   21   29  p   \n232   volkswagen  passat    2.8  1999    6    auto(l5)   f   16   26  p   \n233   volkswagen  passat    2.8  1999    6  manual(m5)   f   18   26  p   \n234   volkswagen  passat    3.6  2008    6    auto(s6)   f   17   26  p   \n\n       class  average_mileage  \n1    compact             23.5  \n2    compact             25.0  \n3    compact             25.5  \n4    compact             25.5  \n5    compact             21.0  \n..       ...              ...  \n230  midsize             23.5  \n231  midsize             25.0  \n232  midsize             21.0  \n233  midsize             22.0  \n234  midsize             21.5  \n\n[234 rows x 12 columns]",
      "text/html": "<div>\n<style scoped>\n    .dataframe tbody tr th:only-of-type {\n        vertical-align: middle;\n    }\n\n    .dataframe tbody tr th {\n        vertical-align: top;\n    }\n\n    .dataframe thead th {\n        text-align: right;\n    }\n</style>\n<table border=\"1\" class=\"dataframe\">\n  <thead>\n    <tr style=\"text-align: right;\">\n      <th></th>\n      <th>manufacturer</th>\n      <th>model</th>\n      <th>displ</th>\n      <th>year</th>\n      <th>cyl</th>\n      <th>trans</th>\n      <th>drv</th>\n      <th>cty</th>\n      <th>hwy</th>\n      <th>fl</th>\n      <th>class</th>\n      <th>average_mileage</th>\n    </tr>\n  </thead>\n  <tbody>\n    <tr>\n      <th>1</th>\n      <td>audi</td>\n      <td>a4</td>\n      <td>1.8</td>\n      <td>1999</td>\n      <td>4</td>\n      <td>auto(l5)</td>\n      <td>f</td>\n      <td>18</td>\n      <td>29</td>\n      <td>p</td>\n      <td>compact</td>\n      <td>23.5</td>\n    </tr>\n    <tr>\n      <th>2</th>\n      <td>audi</td>\n      <td>a4</td>\n      <td>1.8</td>\n      <td>1999</td>\n      <td>4</td>\n      <td>manual(m5)</td>\n      <td>f</td>\n      <td>21</td>\n      <td>29</td>\n      <td>p</td>\n      <td>compact</td>\n      <td>25.0</td>\n    </tr>\n    <tr>\n      <th>3</th>\n      <td>audi</td>\n      <td>a4</td>\n      <td>2.0</td>\n      <td>2008</td>\n      <td>4</td>\n      <td>manual(m6)</td>\n      <td>f</td>\n      <td>20</td>\n      <td>31</td>\n      <td>p</td>\n      <td>compact</td>\n      <td>25.5</td>\n    </tr>\n    <tr>\n      <th>4</th>\n      <td>audi</td>\n      <td>a4</td>\n      <td>2.0</td>\n      <td>2008</td>\n      <td>4</td>\n      <td>auto(av)</td>\n      <td>f</td>\n      <td>21</td>\n      <td>30</td>\n      <td>p</td>\n      <td>compact</td>\n      <td>25.5</td>\n    </tr>\n    <tr>\n      <th>5</th>\n      <td>audi</td>\n      <td>a4</td>\n      <td>2.8</td>\n      <td>1999</td>\n      <td>6</td>\n      <td>auto(l5)</td>\n      <td>f</td>\n      <td>16</td>\n      <td>26</td>\n      <td>p</td>\n      <td>compact</td>\n      <td>21.0</td>\n    </tr>\n    <tr>\n      <th>...</th>\n      <td>...</td>\n      <td>...</td>\n      <td>...</td>\n      <td>...</td>\n      <td>...</td>\n      <td>...</td>\n      <td>...</td>\n      <td>...</td>\n      <td>...</td>\n      <td>...</td>\n      <td>...</td>\n      <td>...</td>\n    </tr>\n    <tr>\n      <th>230</th>\n      <td>volkswagen</td>\n      <td>passat</td>\n      <td>2.0</td>\n      <td>2008</td>\n      <td>4</td>\n      <td>auto(s6)</td>\n      <td>f</td>\n      <td>19</td>\n      <td>28</td>\n      <td>p</td>\n      <td>midsize</td>\n      <td>23.5</td>\n    </tr>\n    <tr>\n      <th>231</th>\n      <td>volkswagen</td>\n      <td>passat</td>\n      <td>2.0</td>\n      <td>2008</td>\n      <td>4</td>\n      <td>manual(m6)</td>\n      <td>f</td>\n      <td>21</td>\n      <td>29</td>\n      <td>p</td>\n      <td>midsize</td>\n      <td>25.0</td>\n    </tr>\n    <tr>\n      <th>232</th>\n      <td>volkswagen</td>\n      <td>passat</td>\n      <td>2.8</td>\n      <td>1999</td>\n      <td>6</td>\n      <td>auto(l5)</td>\n      <td>f</td>\n      <td>16</td>\n      <td>26</td>\n      <td>p</td>\n      <td>midsize</td>\n      <td>21.0</td>\n    </tr>\n    <tr>\n      <th>233</th>\n      <td>volkswagen</td>\n      <td>passat</td>\n      <td>2.8</td>\n      <td>1999</td>\n      <td>6</td>\n      <td>manual(m5)</td>\n      <td>f</td>\n      <td>18</td>\n      <td>26</td>\n      <td>p</td>\n      <td>midsize</td>\n      <td>22.0</td>\n    </tr>\n    <tr>\n      <th>234</th>\n      <td>volkswagen</td>\n      <td>passat</td>\n      <td>3.6</td>\n      <td>2008</td>\n      <td>6</td>\n      <td>auto(s6)</td>\n      <td>f</td>\n      <td>17</td>\n      <td>26</td>\n      <td>p</td>\n      <td>midsize</td>\n      <td>21.5</td>\n    </tr>\n  </tbody>\n</table>\n<p>234 rows × 12 columns</p>\n</div>"
     },
     "execution_count": 33,
     "metadata": {},
     "output_type": "execute_result"
    }
   ],
   "source": [
    "mpg"
   ],
   "metadata": {
    "collapsed": false,
    "ExecuteTime": {
     "end_time": "2023-11-07T23:39:40.728871Z",
     "start_time": "2023-11-07T23:39:40.704997Z"
    }
   },
   "id": "a8bbed851c34fb5"
  },
  {
   "cell_type": "markdown",
   "source": [
    "Create a new column on the mpg dataset named is_automatic that holds boolean values denoting whether the car has an automatic transmission."
   ],
   "metadata": {
    "collapsed": false
   },
   "id": "953f423d043c7293"
  },
  {
   "cell_type": "code",
   "execution_count": 40,
   "outputs": [],
   "source": [
    "mpg['is_automatic'] = np.where(mpg.trans.str.startswith('a'),True,False)"
   ],
   "metadata": {
    "collapsed": false,
    "ExecuteTime": {
     "end_time": "2023-11-08T00:40:10.505464Z",
     "start_time": "2023-11-08T00:40:10.490855Z"
    }
   },
   "id": "fa8bf91e6bdf0633"
  },
  {
   "cell_type": "code",
   "execution_count": 41,
   "outputs": [
    {
     "data": {
      "text/plain": "    manufacturer   model  displ  year  cyl       trans drv  cty  hwy fl  \\\n1           audi      a4    1.8  1999    4    auto(l5)   f   18   29  p   \n2           audi      a4    1.8  1999    4  manual(m5)   f   21   29  p   \n3           audi      a4    2.0  2008    4  manual(m6)   f   20   31  p   \n4           audi      a4    2.0  2008    4    auto(av)   f   21   30  p   \n5           audi      a4    2.8  1999    6    auto(l5)   f   16   26  p   \n..           ...     ...    ...   ...  ...         ...  ..  ...  ... ..   \n230   volkswagen  passat    2.0  2008    4    auto(s6)   f   19   28  p   \n231   volkswagen  passat    2.0  2008    4  manual(m6)   f   21   29  p   \n232   volkswagen  passat    2.8  1999    6    auto(l5)   f   16   26  p   \n233   volkswagen  passat    2.8  1999    6  manual(m5)   f   18   26  p   \n234   volkswagen  passat    3.6  2008    6    auto(s6)   f   17   26  p   \n\n       class  average_mileage  is_automatic  \n1    compact             23.5          True  \n2    compact             25.0         False  \n3    compact             25.5         False  \n4    compact             25.5          True  \n5    compact             21.0          True  \n..       ...              ...           ...  \n230  midsize             23.5          True  \n231  midsize             25.0         False  \n232  midsize             21.0          True  \n233  midsize             22.0         False  \n234  midsize             21.5          True  \n\n[234 rows x 13 columns]",
      "text/html": "<div>\n<style scoped>\n    .dataframe tbody tr th:only-of-type {\n        vertical-align: middle;\n    }\n\n    .dataframe tbody tr th {\n        vertical-align: top;\n    }\n\n    .dataframe thead th {\n        text-align: right;\n    }\n</style>\n<table border=\"1\" class=\"dataframe\">\n  <thead>\n    <tr style=\"text-align: right;\">\n      <th></th>\n      <th>manufacturer</th>\n      <th>model</th>\n      <th>displ</th>\n      <th>year</th>\n      <th>cyl</th>\n      <th>trans</th>\n      <th>drv</th>\n      <th>cty</th>\n      <th>hwy</th>\n      <th>fl</th>\n      <th>class</th>\n      <th>average_mileage</th>\n      <th>is_automatic</th>\n    </tr>\n  </thead>\n  <tbody>\n    <tr>\n      <th>1</th>\n      <td>audi</td>\n      <td>a4</td>\n      <td>1.8</td>\n      <td>1999</td>\n      <td>4</td>\n      <td>auto(l5)</td>\n      <td>f</td>\n      <td>18</td>\n      <td>29</td>\n      <td>p</td>\n      <td>compact</td>\n      <td>23.5</td>\n      <td>True</td>\n    </tr>\n    <tr>\n      <th>2</th>\n      <td>audi</td>\n      <td>a4</td>\n      <td>1.8</td>\n      <td>1999</td>\n      <td>4</td>\n      <td>manual(m5)</td>\n      <td>f</td>\n      <td>21</td>\n      <td>29</td>\n      <td>p</td>\n      <td>compact</td>\n      <td>25.0</td>\n      <td>False</td>\n    </tr>\n    <tr>\n      <th>3</th>\n      <td>audi</td>\n      <td>a4</td>\n      <td>2.0</td>\n      <td>2008</td>\n      <td>4</td>\n      <td>manual(m6)</td>\n      <td>f</td>\n      <td>20</td>\n      <td>31</td>\n      <td>p</td>\n      <td>compact</td>\n      <td>25.5</td>\n      <td>False</td>\n    </tr>\n    <tr>\n      <th>4</th>\n      <td>audi</td>\n      <td>a4</td>\n      <td>2.0</td>\n      <td>2008</td>\n      <td>4</td>\n      <td>auto(av)</td>\n      <td>f</td>\n      <td>21</td>\n      <td>30</td>\n      <td>p</td>\n      <td>compact</td>\n      <td>25.5</td>\n      <td>True</td>\n    </tr>\n    <tr>\n      <th>5</th>\n      <td>audi</td>\n      <td>a4</td>\n      <td>2.8</td>\n      <td>1999</td>\n      <td>6</td>\n      <td>auto(l5)</td>\n      <td>f</td>\n      <td>16</td>\n      <td>26</td>\n      <td>p</td>\n      <td>compact</td>\n      <td>21.0</td>\n      <td>True</td>\n    </tr>\n    <tr>\n      <th>...</th>\n      <td>...</td>\n      <td>...</td>\n      <td>...</td>\n      <td>...</td>\n      <td>...</td>\n      <td>...</td>\n      <td>...</td>\n      <td>...</td>\n      <td>...</td>\n      <td>...</td>\n      <td>...</td>\n      <td>...</td>\n      <td>...</td>\n    </tr>\n    <tr>\n      <th>230</th>\n      <td>volkswagen</td>\n      <td>passat</td>\n      <td>2.0</td>\n      <td>2008</td>\n      <td>4</td>\n      <td>auto(s6)</td>\n      <td>f</td>\n      <td>19</td>\n      <td>28</td>\n      <td>p</td>\n      <td>midsize</td>\n      <td>23.5</td>\n      <td>True</td>\n    </tr>\n    <tr>\n      <th>231</th>\n      <td>volkswagen</td>\n      <td>passat</td>\n      <td>2.0</td>\n      <td>2008</td>\n      <td>4</td>\n      <td>manual(m6)</td>\n      <td>f</td>\n      <td>21</td>\n      <td>29</td>\n      <td>p</td>\n      <td>midsize</td>\n      <td>25.0</td>\n      <td>False</td>\n    </tr>\n    <tr>\n      <th>232</th>\n      <td>volkswagen</td>\n      <td>passat</td>\n      <td>2.8</td>\n      <td>1999</td>\n      <td>6</td>\n      <td>auto(l5)</td>\n      <td>f</td>\n      <td>16</td>\n      <td>26</td>\n      <td>p</td>\n      <td>midsize</td>\n      <td>21.0</td>\n      <td>True</td>\n    </tr>\n    <tr>\n      <th>233</th>\n      <td>volkswagen</td>\n      <td>passat</td>\n      <td>2.8</td>\n      <td>1999</td>\n      <td>6</td>\n      <td>manual(m5)</td>\n      <td>f</td>\n      <td>18</td>\n      <td>26</td>\n      <td>p</td>\n      <td>midsize</td>\n      <td>22.0</td>\n      <td>False</td>\n    </tr>\n    <tr>\n      <th>234</th>\n      <td>volkswagen</td>\n      <td>passat</td>\n      <td>3.6</td>\n      <td>2008</td>\n      <td>6</td>\n      <td>auto(s6)</td>\n      <td>f</td>\n      <td>17</td>\n      <td>26</td>\n      <td>p</td>\n      <td>midsize</td>\n      <td>21.5</td>\n      <td>True</td>\n    </tr>\n  </tbody>\n</table>\n<p>234 rows × 13 columns</p>\n</div>"
     },
     "execution_count": 41,
     "metadata": {},
     "output_type": "execute_result"
    }
   ],
   "source": [
    "mpg"
   ],
   "metadata": {
    "collapsed": false,
    "ExecuteTime": {
     "end_time": "2023-11-08T00:40:11.244793Z",
     "start_time": "2023-11-08T00:40:11.225813Z"
    }
   },
   "id": "2b780c6e9d4df14b"
  },
  {
   "cell_type": "markdown",
   "source": [
    "Using the mpg dataset, find out which which manufacturer has the best miles per gallon on average?"
   ],
   "metadata": {
    "collapsed": false
   },
   "id": "3d9739852a625bad"
  },
  {
   "cell_type": "code",
   "execution_count": 49,
   "outputs": [
    {
     "data": {
      "text/plain": "              average_mileage\nmanufacturer                 \nhonda                    28.5",
      "text/html": "<div>\n<style scoped>\n    .dataframe tbody tr th:only-of-type {\n        vertical-align: middle;\n    }\n\n    .dataframe tbody tr th {\n        vertical-align: top;\n    }\n\n    .dataframe thead th {\n        text-align: right;\n    }\n</style>\n<table border=\"1\" class=\"dataframe\">\n  <thead>\n    <tr style=\"text-align: right;\">\n      <th></th>\n      <th>average_mileage</th>\n    </tr>\n    <tr>\n      <th>manufacturer</th>\n      <th></th>\n    </tr>\n  </thead>\n  <tbody>\n    <tr>\n      <th>honda</th>\n      <td>28.5</td>\n    </tr>\n  </tbody>\n</table>\n</div>"
     },
     "execution_count": 49,
     "metadata": {},
     "output_type": "execute_result"
    }
   ],
   "source": [
    "mpg[['manufacturer','average_mileage']]\\\n",
    "    .groupby('manufacturer').mean().round(1)\\\n",
    "    .sort_values('average_mileage', ascending=False).head(1)"
   ],
   "metadata": {
    "collapsed": false,
    "ExecuteTime": {
     "end_time": "2023-11-08T00:48:04.878373Z",
     "start_time": "2023-11-08T00:48:04.812815Z"
    }
   },
   "id": "77453b8b0310667e"
  },
  {
   "cell_type": "markdown",
   "source": [
    "Do automatic or manual cars have better miles per gallon?"
   ],
   "metadata": {
    "collapsed": false
   },
   "id": "ab850d0f8171690c"
  },
  {
   "cell_type": "code",
   "execution_count": 53,
   "outputs": [
    {
     "data": {
      "text/plain": "  manufacturer model  displ  year  cyl       trans drv  cty  hwy fl    class  \\\n1         audi    a4    1.8  1999    4    auto(l5)   f   18   29  p  compact   \n2         audi    a4    1.8  1999    4  manual(m5)   f   21   29  p  compact   \n3         audi    a4    2.0  2008    4  manual(m6)   f   20   31  p  compact   \n4         audi    a4    2.0  2008    4    auto(av)   f   21   30  p  compact   \n5         audi    a4    2.8  1999    6    auto(l5)   f   16   26  p  compact   \n\n   average_mileage  is_automatic  \n1             23.5          True  \n2             25.0         False  \n3             25.5         False  \n4             25.5          True  \n5             21.0          True  ",
      "text/html": "<div>\n<style scoped>\n    .dataframe tbody tr th:only-of-type {\n        vertical-align: middle;\n    }\n\n    .dataframe tbody tr th {\n        vertical-align: top;\n    }\n\n    .dataframe thead th {\n        text-align: right;\n    }\n</style>\n<table border=\"1\" class=\"dataframe\">\n  <thead>\n    <tr style=\"text-align: right;\">\n      <th></th>\n      <th>manufacturer</th>\n      <th>model</th>\n      <th>displ</th>\n      <th>year</th>\n      <th>cyl</th>\n      <th>trans</th>\n      <th>drv</th>\n      <th>cty</th>\n      <th>hwy</th>\n      <th>fl</th>\n      <th>class</th>\n      <th>average_mileage</th>\n      <th>is_automatic</th>\n    </tr>\n  </thead>\n  <tbody>\n    <tr>\n      <th>1</th>\n      <td>audi</td>\n      <td>a4</td>\n      <td>1.8</td>\n      <td>1999</td>\n      <td>4</td>\n      <td>auto(l5)</td>\n      <td>f</td>\n      <td>18</td>\n      <td>29</td>\n      <td>p</td>\n      <td>compact</td>\n      <td>23.5</td>\n      <td>True</td>\n    </tr>\n    <tr>\n      <th>2</th>\n      <td>audi</td>\n      <td>a4</td>\n      <td>1.8</td>\n      <td>1999</td>\n      <td>4</td>\n      <td>manual(m5)</td>\n      <td>f</td>\n      <td>21</td>\n      <td>29</td>\n      <td>p</td>\n      <td>compact</td>\n      <td>25.0</td>\n      <td>False</td>\n    </tr>\n    <tr>\n      <th>3</th>\n      <td>audi</td>\n      <td>a4</td>\n      <td>2.0</td>\n      <td>2008</td>\n      <td>4</td>\n      <td>manual(m6)</td>\n      <td>f</td>\n      <td>20</td>\n      <td>31</td>\n      <td>p</td>\n      <td>compact</td>\n      <td>25.5</td>\n      <td>False</td>\n    </tr>\n    <tr>\n      <th>4</th>\n      <td>audi</td>\n      <td>a4</td>\n      <td>2.0</td>\n      <td>2008</td>\n      <td>4</td>\n      <td>auto(av)</td>\n      <td>f</td>\n      <td>21</td>\n      <td>30</td>\n      <td>p</td>\n      <td>compact</td>\n      <td>25.5</td>\n      <td>True</td>\n    </tr>\n    <tr>\n      <th>5</th>\n      <td>audi</td>\n      <td>a4</td>\n      <td>2.8</td>\n      <td>1999</td>\n      <td>6</td>\n      <td>auto(l5)</td>\n      <td>f</td>\n      <td>16</td>\n      <td>26</td>\n      <td>p</td>\n      <td>compact</td>\n      <td>21.0</td>\n      <td>True</td>\n    </tr>\n  </tbody>\n</table>\n</div>"
     },
     "execution_count": 53,
     "metadata": {},
     "output_type": "execute_result"
    }
   ],
   "source": [
    "mpg.head()"
   ],
   "metadata": {
    "collapsed": false,
    "ExecuteTime": {
     "end_time": "2023-11-08T00:50:02.298374Z",
     "start_time": "2023-11-08T00:50:02.233954Z"
    }
   },
   "id": "a0b51ce3d2bb20e5"
  },
  {
   "cell_type": "markdown",
   "source": [
    "Use your get_db_url function to help you explore the data from the chipotle database."
   ],
   "metadata": {
    "collapsed": false
   },
   "id": "9e0c3bbf68443b4b"
  },
  {
   "cell_type": "code",
   "execution_count": 56,
   "outputs": [],
   "source": [
    "import env"
   ],
   "metadata": {
    "collapsed": false,
    "ExecuteTime": {
     "end_time": "2023-11-08T00:52:06.878199Z",
     "start_time": "2023-11-08T00:52:06.737579Z"
    }
   },
   "id": "697f5188b397a61a"
  },
  {
   "cell_type": "code",
   "execution_count": 68,
   "outputs": [],
   "source": [
    "url = get_db_url(env.user,env.password,env.host)\n"
   ],
   "metadata": {
    "collapsed": false,
    "ExecuteTime": {
     "end_time": "2023-11-08T01:05:50.862478Z",
     "start_time": "2023-11-08T01:05:43.240550Z"
    }
   },
   "id": "7febffe310d09c78"
  },
  {
   "cell_type": "code",
   "execution_count": 71,
   "outputs": [
    {
     "data": {
      "text/plain": "  Tables_in_chipotle\n0             orders",
      "text/html": "<div>\n<style scoped>\n    .dataframe tbody tr th:only-of-type {\n        vertical-align: middle;\n    }\n\n    .dataframe tbody tr th {\n        vertical-align: top;\n    }\n\n    .dataframe thead th {\n        text-align: right;\n    }\n</style>\n<table border=\"1\" class=\"dataframe\">\n  <thead>\n    <tr style=\"text-align: right;\">\n      <th></th>\n      <th>Tables_in_chipotle</th>\n    </tr>\n  </thead>\n  <tbody>\n    <tr>\n      <th>0</th>\n      <td>orders</td>\n    </tr>\n  </tbody>\n</table>\n</div>"
     },
     "execution_count": 71,
     "metadata": {},
     "output_type": "execute_result"
    }
   ],
   "source": [
    "pd.read_sql('show tables', url)"
   ],
   "metadata": {
    "collapsed": false,
    "ExecuteTime": {
     "end_time": "2023-11-08T01:07:15.507608Z",
     "start_time": "2023-11-08T01:07:14.236182Z"
    }
   },
   "id": "91cd8bddf56fbf05"
  },
  {
   "cell_type": "code",
   "execution_count": 74,
   "outputs": [],
   "source": [
    "df = pd.read_sql('select * from orders', url)"
   ],
   "metadata": {
    "collapsed": false,
    "ExecuteTime": {
     "end_time": "2023-11-08T01:12:37.024648Z",
     "start_time": "2023-11-08T01:12:35.754486Z"
    }
   },
   "id": "c67cf7ececf80498"
  },
  {
   "cell_type": "markdown",
   "source": [
    "How many rows and columns do you have in each DataFrame? Is that what you expected?"
   ],
   "metadata": {
    "collapsed": false
   },
   "id": "ac5a19633c221f3e"
  },
  {
   "cell_type": "code",
   "execution_count": 81,
   "outputs": [
    {
     "data": {
      "text/plain": "   id  order_id  quantity                              item_name  \\\n0   1         1         1           Chips and Fresh Tomato Salsa   \n1   2         1         1                                   Izze   \n2   3         1         1                       Nantucket Nectar   \n3   4         1         1  Chips and Tomatillo-Green Chili Salsa   \n4   5         2         2                           Chicken Bowl   \n\n                                                           choice_description  \\\n0                                                                         nan   \n1                                                                [Clementine]   \n2                                                                     [Apple]   \n3                                                                         nan   \n4  [Tomatillo-Red Chili Salsa (Hot), [Black Beans, Rice, Cheese, Sour Cream]]   \n\n  item_price  \n0     $2.39   \n1     $3.39   \n2     $3.39   \n3     $2.39   \n4    $16.98   ",
      "text/html": "<div>\n<style scoped>\n    .dataframe tbody tr th:only-of-type {\n        vertical-align: middle;\n    }\n\n    .dataframe tbody tr th {\n        vertical-align: top;\n    }\n\n    .dataframe thead th {\n        text-align: right;\n    }\n</style>\n<table border=\"1\" class=\"dataframe\">\n  <thead>\n    <tr style=\"text-align: right;\">\n      <th></th>\n      <th>id</th>\n      <th>order_id</th>\n      <th>quantity</th>\n      <th>item_name</th>\n      <th>choice_description</th>\n      <th>item_price</th>\n    </tr>\n  </thead>\n  <tbody>\n    <tr>\n      <th>0</th>\n      <td>1</td>\n      <td>1</td>\n      <td>1</td>\n      <td>Chips and Fresh Tomato Salsa</td>\n      <td>nan</td>\n      <td>$2.39</td>\n    </tr>\n    <tr>\n      <th>1</th>\n      <td>2</td>\n      <td>1</td>\n      <td>1</td>\n      <td>Izze</td>\n      <td>[Clementine]</td>\n      <td>$3.39</td>\n    </tr>\n    <tr>\n      <th>2</th>\n      <td>3</td>\n      <td>1</td>\n      <td>1</td>\n      <td>Nantucket Nectar</td>\n      <td>[Apple]</td>\n      <td>$3.39</td>\n    </tr>\n    <tr>\n      <th>3</th>\n      <td>4</td>\n      <td>1</td>\n      <td>1</td>\n      <td>Chips and Tomatillo-Green Chili Salsa</td>\n      <td>nan</td>\n      <td>$2.39</td>\n    </tr>\n    <tr>\n      <th>4</th>\n      <td>5</td>\n      <td>2</td>\n      <td>2</td>\n      <td>Chicken Bowl</td>\n      <td>[Tomatillo-Red Chili Salsa (Hot), [Black Beans, Rice, Cheese, Sour Cream]]</td>\n      <td>$16.98</td>\n    </tr>\n  </tbody>\n</table>\n</div>"
     },
     "execution_count": 81,
     "metadata": {},
     "output_type": "execute_result"
    }
   ],
   "source": [
    "df.head()"
   ],
   "metadata": {
    "collapsed": false,
    "ExecuteTime": {
     "end_time": "2023-11-08T01:35:53.979047Z",
     "start_time": "2023-11-08T01:35:53.555950Z"
    }
   },
   "id": "409047954d684e50"
  },
  {
   "cell_type": "markdown",
   "source": [
    "What is the total price for each order?"
   ],
   "metadata": {
    "collapsed": false
   },
   "id": "b7a981a662b6467f"
  },
  {
   "cell_type": "code",
   "execution_count": 82,
   "outputs": [],
   "source": [
    "df.item_price = df.item_price.str.strip('$').astype(float)"
   ],
   "metadata": {
    "collapsed": false,
    "ExecuteTime": {
     "end_time": "2023-11-08T01:37:21.499845Z",
     "start_time": "2023-11-08T01:37:21.410783Z"
    }
   },
   "id": "afc88b6e1ea21ebf"
  },
  {
   "cell_type": "code",
   "execution_count": 86,
   "outputs": [
    {
     "data": {
      "text/plain": "order_id\n1       11.56\n2       16.98\n3       12.67\n4       21.00\n5       13.70\n        ...  \n1830    23.00\n1831    12.90\n1832    13.20\n1833    23.50\n1834    28.75\nName: item_price, Length: 1834, dtype: float64"
     },
     "execution_count": 86,
     "metadata": {},
     "output_type": "execute_result"
    }
   ],
   "source": [
    "df.groupby('order_id').sum().item_price"
   ],
   "metadata": {
    "collapsed": false,
    "ExecuteTime": {
     "end_time": "2023-11-08T01:43:54.831461Z",
     "start_time": "2023-11-08T01:43:54.743429Z"
    }
   },
   "id": "a684d99371a4ab50"
  },
  {
   "cell_type": "markdown",
   "source": [
    "What are the most popular 3 items?"
   ],
   "metadata": {
    "collapsed": false
   },
   "id": "b3de0e6323c3d2ac"
  },
  {
   "cell_type": "code",
   "execution_count": 87,
   "outputs": [
    {
     "data": {
      "text/plain": "   id  order_id  quantity                              item_name  \\\n0   1         1         1           Chips and Fresh Tomato Salsa   \n1   2         1         1                                   Izze   \n2   3         1         1                       Nantucket Nectar   \n3   4         1         1  Chips and Tomatillo-Green Chili Salsa   \n4   5         2         2                           Chicken Bowl   \n\n                                                           choice_description  \\\n0                                                                         nan   \n1                                                                [Clementine]   \n2                                                                     [Apple]   \n3                                                                         nan   \n4  [Tomatillo-Red Chili Salsa (Hot), [Black Beans, Rice, Cheese, Sour Cream]]   \n\n   item_price  \n0        2.39  \n1        3.39  \n2        3.39  \n3        2.39  \n4       16.98  ",
      "text/html": "<div>\n<style scoped>\n    .dataframe tbody tr th:only-of-type {\n        vertical-align: middle;\n    }\n\n    .dataframe tbody tr th {\n        vertical-align: top;\n    }\n\n    .dataframe thead th {\n        text-align: right;\n    }\n</style>\n<table border=\"1\" class=\"dataframe\">\n  <thead>\n    <tr style=\"text-align: right;\">\n      <th></th>\n      <th>id</th>\n      <th>order_id</th>\n      <th>quantity</th>\n      <th>item_name</th>\n      <th>choice_description</th>\n      <th>item_price</th>\n    </tr>\n  </thead>\n  <tbody>\n    <tr>\n      <th>0</th>\n      <td>1</td>\n      <td>1</td>\n      <td>1</td>\n      <td>Chips and Fresh Tomato Salsa</td>\n      <td>nan</td>\n      <td>2.39</td>\n    </tr>\n    <tr>\n      <th>1</th>\n      <td>2</td>\n      <td>1</td>\n      <td>1</td>\n      <td>Izze</td>\n      <td>[Clementine]</td>\n      <td>3.39</td>\n    </tr>\n    <tr>\n      <th>2</th>\n      <td>3</td>\n      <td>1</td>\n      <td>1</td>\n      <td>Nantucket Nectar</td>\n      <td>[Apple]</td>\n      <td>3.39</td>\n    </tr>\n    <tr>\n      <th>3</th>\n      <td>4</td>\n      <td>1</td>\n      <td>1</td>\n      <td>Chips and Tomatillo-Green Chili Salsa</td>\n      <td>nan</td>\n      <td>2.39</td>\n    </tr>\n    <tr>\n      <th>4</th>\n      <td>5</td>\n      <td>2</td>\n      <td>2</td>\n      <td>Chicken Bowl</td>\n      <td>[Tomatillo-Red Chili Salsa (Hot), [Black Beans, Rice, Cheese, Sour Cream]]</td>\n      <td>16.98</td>\n    </tr>\n  </tbody>\n</table>\n</div>"
     },
     "execution_count": 87,
     "metadata": {},
     "output_type": "execute_result"
    }
   ],
   "source": [
    "df.head()"
   ],
   "metadata": {
    "collapsed": false,
    "ExecuteTime": {
     "end_time": "2023-11-08T01:44:08.732961Z",
     "start_time": "2023-11-08T01:44:08.629402Z"
    }
   },
   "id": "968930feffe1cbf1"
  },
  {
   "cell_type": "code",
   "execution_count": 101,
   "outputs": [
    {
     "data": {
      "text/plain": "item_name\n6 Pack Soft Drink        55\nBarbacoa Bowl            66\nBarbacoa Burrito         91\nBarbacoa Crispy Tacos    12\nBarbacoa Salad Bowl      10\nName: quantity, dtype: int64"
     },
     "execution_count": 101,
     "metadata": {},
     "output_type": "execute_result"
    }
   ],
   "source": [
    "df.groupby(['item_name']).quantity.sum().head()"
   ],
   "metadata": {
    "collapsed": false,
    "ExecuteTime": {
     "end_time": "2023-11-08T01:52:47.750786Z",
     "start_time": "2023-11-08T01:52:47.334487Z"
    }
   },
   "id": "7873fa6b142ab421"
  },
  {
   "cell_type": "code",
   "execution_count": 102,
   "outputs": [
    {
     "ename": "ImportError",
     "evalue": "matplotlib is required for plotting when the default backend \"matplotlib\" is selected.",
     "output_type": "error",
     "traceback": [
      "\u001B[0;31m---------------------------------------------------------------------------\u001B[0m",
      "\u001B[0;31mImportError\u001B[0m                               Traceback (most recent call last)",
      "Cell \u001B[0;32mIn[102], line 1\u001B[0m\n\u001B[0;32m----> 1\u001B[0m \u001B[43mdf\u001B[49m\u001B[38;5;241;43m.\u001B[39;49m\u001B[43mgroupby\u001B[49m\u001B[43m(\u001B[49m\u001B[43m[\u001B[49m\u001B[38;5;124;43m'\u001B[39;49m\u001B[38;5;124;43mitem_name\u001B[39;49m\u001B[38;5;124;43m'\u001B[39;49m\u001B[43m]\u001B[49m\u001B[43m)\u001B[49m\u001B[38;5;241;43m.\u001B[39;49m\u001B[43msum\u001B[49m\u001B[43m(\u001B[49m\u001B[43m)\u001B[49m\u001B[43m[\u001B[49m\u001B[38;5;124;43m'\u001B[39;49m\u001B[38;5;124;43mquantity\u001B[39;49m\u001B[38;5;124;43m'\u001B[39;49m\u001B[43m]\u001B[49m\u001B[38;5;241;43m.\u001B[39;49m\u001B[43mnlargest\u001B[49m\u001B[43m(\u001B[49m\u001B[38;5;241;43m3\u001B[39;49m\u001B[43m)\u001B[49m\u001B[38;5;241;43m.\u001B[39;49m\u001B[43mplot\u001B[49m\u001B[38;5;241;43m.\u001B[39;49m\u001B[43mbarh\u001B[49m\u001B[43m(\u001B[49m\u001B[43m)\u001B[49m\n",
      "File \u001B[0;32m~/codeup-data-science/ds-libraries-exercises/venv/lib/python3.11/site-packages/pandas/plotting/_core.py:1281\u001B[0m, in \u001B[0;36mPlotAccessor.barh\u001B[0;34m(self, x, y, **kwargs)\u001B[0m\n\u001B[1;32m   1195\u001B[0m \u001B[38;5;129m@Appender\u001B[39m(\n\u001B[1;32m   1196\u001B[0m \u001B[38;5;250m    \u001B[39m\u001B[38;5;124;03m\"\"\"\u001B[39;00m\n\u001B[1;32m   1197\u001B[0m \u001B[38;5;124;03m    See Also\u001B[39;00m\n\u001B[0;32m   (...)\u001B[0m\n\u001B[1;32m   1270\u001B[0m     \u001B[38;5;28mself\u001B[39m, x: Hashable \u001B[38;5;241m|\u001B[39m \u001B[38;5;28;01mNone\u001B[39;00m \u001B[38;5;241m=\u001B[39m \u001B[38;5;28;01mNone\u001B[39;00m, y: Hashable \u001B[38;5;241m|\u001B[39m \u001B[38;5;28;01mNone\u001B[39;00m \u001B[38;5;241m=\u001B[39m \u001B[38;5;28;01mNone\u001B[39;00m, \u001B[38;5;241m*\u001B[39m\u001B[38;5;241m*\u001B[39mkwargs\n\u001B[1;32m   1271\u001B[0m ) \u001B[38;5;241m-\u001B[39m\u001B[38;5;241m>\u001B[39m PlotAccessor:\n\u001B[1;32m   1272\u001B[0m \u001B[38;5;250m    \u001B[39m\u001B[38;5;124;03m\"\"\"\u001B[39;00m\n\u001B[1;32m   1273\u001B[0m \u001B[38;5;124;03m    Make a horizontal bar plot.\u001B[39;00m\n\u001B[1;32m   1274\u001B[0m \n\u001B[0;32m   (...)\u001B[0m\n\u001B[1;32m   1279\u001B[0m \u001B[38;5;124;03m    other axis represents a measured value.\u001B[39;00m\n\u001B[1;32m   1280\u001B[0m \u001B[38;5;124;03m    \"\"\"\u001B[39;00m\n\u001B[0;32m-> 1281\u001B[0m     \u001B[38;5;28;01mreturn\u001B[39;00m \u001B[38;5;28;43mself\u001B[39;49m\u001B[43m(\u001B[49m\u001B[43mkind\u001B[49m\u001B[38;5;241;43m=\u001B[39;49m\u001B[38;5;124;43m\"\u001B[39;49m\u001B[38;5;124;43mbarh\u001B[39;49m\u001B[38;5;124;43m\"\u001B[39;49m\u001B[43m,\u001B[49m\u001B[43m \u001B[49m\u001B[43mx\u001B[49m\u001B[38;5;241;43m=\u001B[39;49m\u001B[43mx\u001B[49m\u001B[43m,\u001B[49m\u001B[43m \u001B[49m\u001B[43my\u001B[49m\u001B[38;5;241;43m=\u001B[39;49m\u001B[43my\u001B[49m\u001B[43m,\u001B[49m\u001B[43m \u001B[49m\u001B[38;5;241;43m*\u001B[39;49m\u001B[38;5;241;43m*\u001B[39;49m\u001B[43mkwargs\u001B[49m\u001B[43m)\u001B[49m\n",
      "File \u001B[0;32m~/codeup-data-science/ds-libraries-exercises/venv/lib/python3.11/site-packages/pandas/plotting/_core.py:951\u001B[0m, in \u001B[0;36mPlotAccessor.__call__\u001B[0;34m(self, *args, **kwargs)\u001B[0m\n\u001B[1;32m    950\u001B[0m \u001B[38;5;28;01mdef\u001B[39;00m \u001B[38;5;21m__call__\u001B[39m(\u001B[38;5;28mself\u001B[39m, \u001B[38;5;241m*\u001B[39margs, \u001B[38;5;241m*\u001B[39m\u001B[38;5;241m*\u001B[39mkwargs):\n\u001B[0;32m--> 951\u001B[0m     plot_backend \u001B[38;5;241m=\u001B[39m \u001B[43m_get_plot_backend\u001B[49m\u001B[43m(\u001B[49m\u001B[43mkwargs\u001B[49m\u001B[38;5;241;43m.\u001B[39;49m\u001B[43mpop\u001B[49m\u001B[43m(\u001B[49m\u001B[38;5;124;43m\"\u001B[39;49m\u001B[38;5;124;43mbackend\u001B[39;49m\u001B[38;5;124;43m\"\u001B[39;49m\u001B[43m,\u001B[49m\u001B[43m \u001B[49m\u001B[38;5;28;43;01mNone\u001B[39;49;00m\u001B[43m)\u001B[49m\u001B[43m)\u001B[49m\n\u001B[1;32m    953\u001B[0m     x, y, kind, kwargs \u001B[38;5;241m=\u001B[39m \u001B[38;5;28mself\u001B[39m\u001B[38;5;241m.\u001B[39m_get_call_args(\n\u001B[1;32m    954\u001B[0m         plot_backend\u001B[38;5;241m.\u001B[39m\u001B[38;5;18m__name__\u001B[39m, \u001B[38;5;28mself\u001B[39m\u001B[38;5;241m.\u001B[39m_parent, args, kwargs\n\u001B[1;32m    955\u001B[0m     )\n\u001B[1;32m    957\u001B[0m     kind \u001B[38;5;241m=\u001B[39m \u001B[38;5;28mself\u001B[39m\u001B[38;5;241m.\u001B[39m_kind_aliases\u001B[38;5;241m.\u001B[39mget(kind, kind)\n",
      "File \u001B[0;32m~/codeup-data-science/ds-libraries-exercises/venv/lib/python3.11/site-packages/pandas/plotting/_core.py:1947\u001B[0m, in \u001B[0;36m_get_plot_backend\u001B[0;34m(backend)\u001B[0m\n\u001B[1;32m   1944\u001B[0m \u001B[38;5;28;01mif\u001B[39;00m backend_str \u001B[38;5;129;01min\u001B[39;00m _backends:\n\u001B[1;32m   1945\u001B[0m     \u001B[38;5;28;01mreturn\u001B[39;00m _backends[backend_str]\n\u001B[0;32m-> 1947\u001B[0m module \u001B[38;5;241m=\u001B[39m \u001B[43m_load_backend\u001B[49m\u001B[43m(\u001B[49m\u001B[43mbackend_str\u001B[49m\u001B[43m)\u001B[49m\n\u001B[1;32m   1948\u001B[0m _backends[backend_str] \u001B[38;5;241m=\u001B[39m module\n\u001B[1;32m   1949\u001B[0m \u001B[38;5;28;01mreturn\u001B[39;00m module\n",
      "File \u001B[0;32m~/codeup-data-science/ds-libraries-exercises/venv/lib/python3.11/site-packages/pandas/plotting/_core.py:1877\u001B[0m, in \u001B[0;36m_load_backend\u001B[0;34m(backend)\u001B[0m\n\u001B[1;32m   1875\u001B[0m         module \u001B[38;5;241m=\u001B[39m importlib\u001B[38;5;241m.\u001B[39mimport_module(\u001B[38;5;124m\"\u001B[39m\u001B[38;5;124mpandas.plotting._matplotlib\u001B[39m\u001B[38;5;124m\"\u001B[39m)\n\u001B[1;32m   1876\u001B[0m     \u001B[38;5;28;01mexcept\u001B[39;00m \u001B[38;5;167;01mImportError\u001B[39;00m:\n\u001B[0;32m-> 1877\u001B[0m         \u001B[38;5;28;01mraise\u001B[39;00m \u001B[38;5;167;01mImportError\u001B[39;00m(\n\u001B[1;32m   1878\u001B[0m             \u001B[38;5;124m\"\u001B[39m\u001B[38;5;124mmatplotlib is required for plotting when the \u001B[39m\u001B[38;5;124m\"\u001B[39m\n\u001B[1;32m   1879\u001B[0m             \u001B[38;5;124m'\u001B[39m\u001B[38;5;124mdefault backend \u001B[39m\u001B[38;5;124m\"\u001B[39m\u001B[38;5;124mmatplotlib\u001B[39m\u001B[38;5;124m\"\u001B[39m\u001B[38;5;124m is selected.\u001B[39m\u001B[38;5;124m'\u001B[39m\n\u001B[1;32m   1880\u001B[0m         ) \u001B[38;5;28;01mfrom\u001B[39;00m \u001B[38;5;28;01mNone\u001B[39;00m\n\u001B[1;32m   1881\u001B[0m     \u001B[38;5;28;01mreturn\u001B[39;00m module\n\u001B[1;32m   1883\u001B[0m found_backend \u001B[38;5;241m=\u001B[39m \u001B[38;5;28;01mFalse\u001B[39;00m\n",
      "\u001B[0;31mImportError\u001B[0m: matplotlib is required for plotting when the default backend \"matplotlib\" is selected."
     ]
    }
   ],
   "source": [
    "df.groupby(['item_name']).sum()['quantity'].nlargest(3).plot.barh()"
   ],
   "metadata": {
    "collapsed": false,
    "ExecuteTime": {
     "end_time": "2023-11-08T01:55:31.853182Z",
     "start_time": "2023-11-08T01:55:31.589219Z"
    }
   },
   "id": "82cc1b57aa477e88"
  },
  {
   "cell_type": "code",
   "execution_count": null,
   "outputs": [],
   "source": [],
   "metadata": {
    "collapsed": false
   },
   "id": "45b01cd5579160d0"
  }
 ],
 "metadata": {
  "kernelspec": {
   "display_name": "Python 3",
   "language": "python",
   "name": "python3"
  },
  "language_info": {
   "codemirror_mode": {
    "name": "ipython",
    "version": 2
   },
   "file_extension": ".py",
   "mimetype": "text/x-python",
   "name": "python",
   "nbconvert_exporter": "python",
   "pygments_lexer": "ipython2",
   "version": "2.7.6"
  }
 },
 "nbformat": 4,
 "nbformat_minor": 5
}
